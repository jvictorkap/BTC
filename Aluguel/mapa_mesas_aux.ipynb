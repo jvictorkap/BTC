{
 "cells": [
  {
   "cell_type": "code",
   "execution_count": 1,
   "metadata": {},
   "outputs": [],
   "source": [
    "#\n",
    "import sys\n",
    "\n",
    "# from devolucao import get_df_devol\n",
    "sys.path.append(\"..\")\n",
    "import DB\n",
    "import workdays\n",
    "import datetime\n",
    "import pandas as pd\n",
    "import numpy as np\n",
    "import carteira_ibov\n",
    "import taxas\n",
    "import os\n",
    "pd.options.mode.chained_assignment = None  # default='warn'\n",
    "import config\n",
    "import psycopg2\n",
    "import pandas as pd\n",
    "import workdays\n",
    "import pyodbc\n",
    "#\n",
    "holidays_br = workdays.load_holidays(\"BR\")\n",
    "holidays_b3 = workdays.load_holidays(\"B3\")\n",
    "\n",
    "dt = datetime.date.today()\n",
    "vcto_0 = dt\n",
    "dt_pos = workdays.workday(dt, -1, holidays_br)\n",
    "\n",
    "\n",
    "dt_1 = workdays.workday(dt, -1, holidays_b3)\n",
    "dt_2 = workdays.workday(dt, -2, holidays_b3)\n",
    "dt_3 = workdays.workday(dt, -3, holidays_b3)\n",
    "dt_4 = workdays.workday(dt, -4, holidays_b3)\n",
    "\n",
    "dt_next_1 = workdays.workday(dt, 1, holidays_b3)\n",
    "vcto_1 = dt_next_1\n",
    "dt_next_2 = workdays.workday(dt, 2, holidays_b3)\n",
    "vcto_2 = dt_next_2\n",
    "dt_next_3 = workdays.workday(dt, 3, holidays_b3)\n",
    "vcto_3 = dt_next_3\n",
    "dt_next_4 = workdays.workday(dt, 4, holidays_b3)\n",
    "vcto_4 = dt_next_4\n",
    "dt_next_5 = workdays.workday(dt, 5, holidays_b3)\n",
    "vcto_5 = dt_next_5\n",
    "\n",
    "dt_liq = workdays.workday(dt_1, 4, holidays_b3)\n"
   ]
  },
  {
   "cell_type": "code",
   "execution_count": null,
   "metadata": {},
   "outputs": [],
   "source": [
    "DB.get_taxas(1)[['tckrsymb','takravrgrate']].to_clipboard()"
   ]
  },
  {
   "cell_type": "code",
   "execution_count": 35,
   "metadata": {},
   "outputs": [],
   "source": [
    "db_conn_test = psycopg2.connect(\n",
    "host=config.DB_TESTE_HOST,\n",
    "dbname=config.DB_TESTE_NAME,\n",
    "user=config.DB_TESTE_USER,\n",
    "password=config.DB_TESTE_PASS)\n",
    "db_conn_risk = psycopg2.connect(\n",
    "host=config.DB_RISK_HOST,\n",
    "dbname=config.DB_RISK_NAME,\n",
    "user=config.DB_RISK_USER,\n",
    "password=config.DB_RISK_PASS,\n",
    ")\n",
    "\n",
    "query = f\"select * from tbl_alugueisconsolidados where dte_data='{dt_1.strftime('%Y-%m-%d')}'\"\n",
    "\n",
    "# query2 = f\"\"\"select contrato,cotliq, qtde, liquidacao from st_alugcustcorr where \"data\"= '{dt_1.strftime('%Y-%m-%d')}' \"\"\"\n",
    "\n",
    "query2 =  f\"SELECT registro,st_alugcustcorr.cliente, st_alugcustcorr.corretora, 'T',vencimento,100*taxa, cotliq, reversor, codigo, st_alugcustcorr.contrato, (avg(qtde)+ case when sum(qteliq) is null then '0' else  sum(qteliq) end) as saldo \\\n",
    "        from st_alugcustcorr left join st_alug_devolucao on st_alugcustcorr.cliente=st_alug_devolucao.cliente and st_alugcustcorr.contrato=st_alug_devolucao.contrato and dataliq>'{dt_1}' and dataliq<='{dt_liq.strftime('%Y-%m-%d')}' \\\n",
    "        where data='{dt_1.strftime('%Y-%m-%d')}' and qtde>0\\\n",
    "        group by registro,st_alugcustcorr.cliente, st_alugcustcorr.corretora, vencimento,taxa,cotliq, reversor, codigo, st_alugcustcorr.contrato\\\n",
    "        HAVING (avg(qtde)+ case when sum(qteliq) is null then '0' else  sum(qteliq) end) <> 0 \\\n",
    "        UNION SELECT registro,st_alugcustcorr.cliente, st_alugcustcorr.corretora, 'D',vencimento,100*taxa, cotliq, reversor, codigo, st_alugcustcorr.contrato, (avg(qtde)+ case when sum(qteliq) is null then '0' else  sum(qteliq) end) as saldo \\\n",
    "        from st_alugcustcorr left join st_alug_devolucao on st_alugcustcorr.contrato=st_alug_devolucao.contrato and dataliq>'{dt_1.strftime('%Y-%m-%d')}' and dataliq<='{dt_liq.strftime('%Y-%m-%d')}'\\\n",
    "        where data='{dt_1.strftime('%Y-%m-%d')}' and qtde<0\\\n",
    "        group by registro,st_alugcustcorr.cliente, st_alugcustcorr.corretora, vencimento,taxa,cotliq, reversor, codigo, st_alugcustcorr.contrato\\\n",
    "        HAVING (avg(qtde)+ case when sum(qteliq) is null then '0' else  sum(qteliq) end) <> 0 order by codigo,vencimento \" \n",
    "\n",
    "\n",
    "df = pd.read_sql(query, db_conn_test)\n",
    "price = pd.read_sql(query2, db_conn_risk)\n",
    "db_conn_risk.close()\n",
    "db_conn_test.close()\n"
   ]
  },
  {
   "cell_type": "code",
   "execution_count": 36,
   "metadata": {},
   "outputs": [
    {
     "data": {
      "text/html": [
       "<div>\n",
       "<style scoped>\n",
       "    .dataframe tbody tr th:only-of-type {\n",
       "        vertical-align: middle;\n",
       "    }\n",
       "\n",
       "    .dataframe tbody tr th {\n",
       "        vertical-align: top;\n",
       "    }\n",
       "\n",
       "    .dataframe thead th {\n",
       "        text-align: right;\n",
       "    }\n",
       "</style>\n",
       "<table border=\"1\" class=\"dataframe\">\n",
       "  <thead>\n",
       "    <tr style=\"text-align: right;\">\n",
       "      <th></th>\n",
       "      <th>registro</th>\n",
       "      <th>cliente</th>\n",
       "      <th>corretora</th>\n",
       "      <th>?column?</th>\n",
       "      <th>vencimento</th>\n",
       "      <th>?column?</th>\n",
       "      <th>cotliq</th>\n",
       "      <th>reversor</th>\n",
       "      <th>codigo</th>\n",
       "      <th>contrato</th>\n",
       "      <th>saldo</th>\n",
       "    </tr>\n",
       "  </thead>\n",
       "  <tbody>\n",
       "    <tr>\n",
       "      <th>0</th>\n",
       "      <td>2023-04-20</td>\n",
       "      <td>KAPITALO KAPPA MASTER FIM</td>\n",
       "      <td>BTG PACTUAL CTVM S/A</td>\n",
       "      <td>D</td>\n",
       "      <td>2023-06-01</td>\n",
       "      <td>32.61</td>\n",
       "      <td>22.46</td>\n",
       "      <td>TD</td>\n",
       "      <td>AALR3</td>\n",
       "      <td>2023042000424541570001-2</td>\n",
       "      <td>-500.0</td>\n",
       "    </tr>\n",
       "    <tr>\n",
       "      <th>1</th>\n",
       "      <td>2023-04-20</td>\n",
       "      <td>KAPITALO KAPPA MASTER FIM</td>\n",
       "      <td>BTG PACTUAL CTVM S/A</td>\n",
       "      <td>D</td>\n",
       "      <td>2023-06-01</td>\n",
       "      <td>32.61</td>\n",
       "      <td>22.46</td>\n",
       "      <td>TD</td>\n",
       "      <td>AALR3</td>\n",
       "      <td>2023042000424539690001-2</td>\n",
       "      <td>-500.0</td>\n",
       "    </tr>\n",
       "    <tr>\n",
       "      <th>2</th>\n",
       "      <td>2023-04-20</td>\n",
       "      <td>KAPITALO KAPPA MASTER FIM</td>\n",
       "      <td>BTG PACTUAL CTVM S/A</td>\n",
       "      <td>D</td>\n",
       "      <td>2023-06-01</td>\n",
       "      <td>32.61</td>\n",
       "      <td>22.46</td>\n",
       "      <td>TD</td>\n",
       "      <td>AALR3</td>\n",
       "      <td>2023042000424541790001-2</td>\n",
       "      <td>-1400.0</td>\n",
       "    </tr>\n",
       "    <tr>\n",
       "      <th>3</th>\n",
       "      <td>2023-05-02</td>\n",
       "      <td>KAPITALO KAPPA MASTER FIM</td>\n",
       "      <td>UBS BRASIL CCTVM S/A</td>\n",
       "      <td>D</td>\n",
       "      <td>2023-06-12</td>\n",
       "      <td>32.61</td>\n",
       "      <td>22.77</td>\n",
       "      <td>TD</td>\n",
       "      <td>AALR3</td>\n",
       "      <td>2023050200454612730001-1</td>\n",
       "      <td>-700.0</td>\n",
       "    </tr>\n",
       "    <tr>\n",
       "      <th>4</th>\n",
       "      <td>2023-03-22</td>\n",
       "      <td>KAPITALO ZETA MASTER FIM</td>\n",
       "      <td>NECTON INVESTIMENTOS S.A. CVMC</td>\n",
       "      <td>T</td>\n",
       "      <td>2023-05-04</td>\n",
       "      <td>5.75</td>\n",
       "      <td>13.99</td>\n",
       "      <td>TD</td>\n",
       "      <td>ABEV3</td>\n",
       "      <td>2023032200415016710001-2</td>\n",
       "      <td>15000.0</td>\n",
       "    </tr>\n",
       "    <tr>\n",
       "      <th>...</th>\n",
       "      <td>...</td>\n",
       "      <td>...</td>\n",
       "      <td>...</td>\n",
       "      <td>...</td>\n",
       "      <td>...</td>\n",
       "      <td>...</td>\n",
       "      <td>...</td>\n",
       "      <td>...</td>\n",
       "      <td>...</td>\n",
       "      <td>...</td>\n",
       "      <td>...</td>\n",
       "    </tr>\n",
       "    <tr>\n",
       "      <th>17470</th>\n",
       "      <td>2023-05-03</td>\n",
       "      <td>KAPITALO ZETA MASTER FIM</td>\n",
       "      <td>XP INVESTIMENTOS CCTVM S/A</td>\n",
       "      <td>T</td>\n",
       "      <td>2023-06-13</td>\n",
       "      <td>7.86</td>\n",
       "      <td>7.82</td>\n",
       "      <td>TD</td>\n",
       "      <td>YDUQ3</td>\n",
       "      <td>2023050300372156570001-2</td>\n",
       "      <td>4475.0</td>\n",
       "    </tr>\n",
       "    <tr>\n",
       "      <th>17471</th>\n",
       "      <td>2023-05-03</td>\n",
       "      <td>KAPITALO KAPPA MASTER FIM</td>\n",
       "      <td>ORAMA DTVM S A</td>\n",
       "      <td>T</td>\n",
       "      <td>2023-06-13</td>\n",
       "      <td>7.86</td>\n",
       "      <td>7.82</td>\n",
       "      <td>TD</td>\n",
       "      <td>YDUQ3</td>\n",
       "      <td>2023050300455344610001-1</td>\n",
       "      <td>2574.0</td>\n",
       "    </tr>\n",
       "    <tr>\n",
       "      <th>17472</th>\n",
       "      <td>2023-05-03</td>\n",
       "      <td>KAPITALO ZETA MASTER FIM</td>\n",
       "      <td>XP INVESTIMENTOS CCTVM S/A</td>\n",
       "      <td>T</td>\n",
       "      <td>2023-06-13</td>\n",
       "      <td>7.86</td>\n",
       "      <td>7.82</td>\n",
       "      <td>TD</td>\n",
       "      <td>YDUQ3</td>\n",
       "      <td>2023050300372156550001-2</td>\n",
       "      <td>6030.0</td>\n",
       "    </tr>\n",
       "    <tr>\n",
       "      <th>17473</th>\n",
       "      <td>2023-05-03</td>\n",
       "      <td>KAPITALO ZETA MASTER FIM</td>\n",
       "      <td>NECTON INVESTIMENTOS S.A. CVMC</td>\n",
       "      <td>T</td>\n",
       "      <td>2023-06-13</td>\n",
       "      <td>7.86</td>\n",
       "      <td>7.82</td>\n",
       "      <td>TD</td>\n",
       "      <td>YDUQ3</td>\n",
       "      <td>2023050300361917990001-2</td>\n",
       "      <td>2000.0</td>\n",
       "    </tr>\n",
       "    <tr>\n",
       "      <th>17474</th>\n",
       "      <td>2023-05-03</td>\n",
       "      <td>KAPITALO ZETA MASTER FIM</td>\n",
       "      <td>BGC LIQUIDEZ DTVM LTDA</td>\n",
       "      <td>T</td>\n",
       "      <td>2023-06-13</td>\n",
       "      <td>7.86</td>\n",
       "      <td>7.82</td>\n",
       "      <td>TD</td>\n",
       "      <td>YDUQ3</td>\n",
       "      <td>2023050300354999170001-2</td>\n",
       "      <td>3255.0</td>\n",
       "    </tr>\n",
       "  </tbody>\n",
       "</table>\n",
       "<p>17475 rows × 11 columns</p>\n",
       "</div>"
      ],
      "text/plain": [
       "         registro                    cliente                       corretora  \\\n",
       "0      2023-04-20  KAPITALO KAPPA MASTER FIM            BTG PACTUAL CTVM S/A   \n",
       "1      2023-04-20  KAPITALO KAPPA MASTER FIM            BTG PACTUAL CTVM S/A   \n",
       "2      2023-04-20  KAPITALO KAPPA MASTER FIM            BTG PACTUAL CTVM S/A   \n",
       "3      2023-05-02  KAPITALO KAPPA MASTER FIM            UBS BRASIL CCTVM S/A   \n",
       "4      2023-03-22   KAPITALO ZETA MASTER FIM  NECTON INVESTIMENTOS S.A. CVMC   \n",
       "...           ...                        ...                             ...   \n",
       "17470  2023-05-03   KAPITALO ZETA MASTER FIM      XP INVESTIMENTOS CCTVM S/A   \n",
       "17471  2023-05-03  KAPITALO KAPPA MASTER FIM                  ORAMA DTVM S A   \n",
       "17472  2023-05-03   KAPITALO ZETA MASTER FIM      XP INVESTIMENTOS CCTVM S/A   \n",
       "17473  2023-05-03   KAPITALO ZETA MASTER FIM  NECTON INVESTIMENTOS S.A. CVMC   \n",
       "17474  2023-05-03   KAPITALO ZETA MASTER FIM          BGC LIQUIDEZ DTVM LTDA   \n",
       "\n",
       "       ?column?  vencimento  ?column?  cotliq reversor codigo  \\\n",
       "0             D  2023-06-01     32.61   22.46       TD  AALR3   \n",
       "1             D  2023-06-01     32.61   22.46       TD  AALR3   \n",
       "2             D  2023-06-01     32.61   22.46       TD  AALR3   \n",
       "3             D  2023-06-12     32.61   22.77       TD  AALR3   \n",
       "4             T  2023-05-04      5.75   13.99       TD  ABEV3   \n",
       "...         ...         ...       ...     ...      ...    ...   \n",
       "17470         T  2023-06-13      7.86    7.82       TD  YDUQ3   \n",
       "17471         T  2023-06-13      7.86    7.82       TD  YDUQ3   \n",
       "17472         T  2023-06-13      7.86    7.82       TD  YDUQ3   \n",
       "17473         T  2023-06-13      7.86    7.82       TD  YDUQ3   \n",
       "17474         T  2023-06-13      7.86    7.82       TD  YDUQ3   \n",
       "\n",
       "                       contrato    saldo  \n",
       "0      2023042000424541570001-2   -500.0  \n",
       "1      2023042000424539690001-2   -500.0  \n",
       "2      2023042000424541790001-2  -1400.0  \n",
       "3      2023050200454612730001-1   -700.0  \n",
       "4      2023032200415016710001-2  15000.0  \n",
       "...                         ...      ...  \n",
       "17470  2023050300372156570001-2   4475.0  \n",
       "17471  2023050300455344610001-1   2574.0  \n",
       "17472  2023050300372156550001-2   6030.0  \n",
       "17473  2023050300361917990001-2   2000.0  \n",
       "17474  2023050300354999170001-2   3255.0  \n",
       "\n",
       "[17475 rows x 11 columns]"
      ]
     },
     "execution_count": 36,
     "metadata": {},
     "output_type": "execute_result"
    }
   ],
   "source": [
    "price"
   ]
  },
  {
   "cell_type": "code",
   "execution_count": 42,
   "metadata": {},
   "outputs": [],
   "source": [
    "db_conn_risk = psycopg2.connect(\n",
    "host=config.DB_RISK_HOST,\n",
    "dbname=config.DB_RISK_NAME,\n",
    "user=config.DB_RISK_USER,\n",
    "password=config.DB_RISK_PASS,\n",
    ")\n",
    "query2 =  f\"select  data, registro, (taxa*100) as taxa ,cotliq , vencimento,corretora, contrato, descoberta as saldo, cliente, codigo from st_alugcustcorr where data='{dt_1.strftime('%Y-%m-%d')}' and descoberta !=0 \" \n",
    "price = pd.read_sql(query2, db_conn_risk)\n",
    "\n",
    "db_conn_risk.close()"
   ]
  },
  {
   "cell_type": "code",
   "execution_count": 44,
   "metadata": {},
   "outputs": [],
   "source": [
    "price = pd.read_excel('imbarq_file.xlsx')"
   ]
  },
  {
   "cell_type": "code",
   "execution_count": null,
   "metadata": {},
   "outputs": [],
   "source": []
  },
  {
   "cell_type": "code",
   "execution_count": 45,
   "metadata": {},
   "outputs": [],
   "source": [
    "price.rename(columns={'cotliq':'preco','contrato':'str_numcontrato','cliente':'str_fundo'},inplace=True)\n",
    "filt = price.loc[price['saldo']!=0][['preco','str_numcontrato','saldo']]\n"
   ]
  },
  {
   "cell_type": "code",
   "execution_count": 46,
   "metadata": {},
   "outputs": [
    {
     "data": {
      "text/html": [
       "<div>\n",
       "<style scoped>\n",
       "    .dataframe tbody tr th:only-of-type {\n",
       "        vertical-align: middle;\n",
       "    }\n",
       "\n",
       "    .dataframe tbody tr th {\n",
       "        vertical-align: top;\n",
       "    }\n",
       "\n",
       "    .dataframe thead th {\n",
       "        text-align: right;\n",
       "    }\n",
       "</style>\n",
       "<table border=\"1\" class=\"dataframe\">\n",
       "  <thead>\n",
       "    <tr style=\"text-align: right;\">\n",
       "      <th></th>\n",
       "      <th>preco</th>\n",
       "      <th>str_numcontrato</th>\n",
       "      <th>saldo</th>\n",
       "    </tr>\n",
       "  </thead>\n",
       "  <tbody>\n",
       "    <tr>\n",
       "      <th>1</th>\n",
       "      <td>1.47</td>\n",
       "      <td>2023041900423934400001-2</td>\n",
       "      <td>-12233</td>\n",
       "    </tr>\n",
       "    <tr>\n",
       "      <th>2</th>\n",
       "      <td>10.10</td>\n",
       "      <td>2023041200448361060001-1</td>\n",
       "      <td>9674</td>\n",
       "    </tr>\n",
       "    <tr>\n",
       "      <th>5</th>\n",
       "      <td>0.61</td>\n",
       "      <td>2023042600400163290001-2</td>\n",
       "      <td>-16010</td>\n",
       "    </tr>\n",
       "    <tr>\n",
       "      <th>17</th>\n",
       "      <td>0.98</td>\n",
       "      <td>2023033000444158040001-1</td>\n",
       "      <td>-17797</td>\n",
       "    </tr>\n",
       "    <tr>\n",
       "      <th>26</th>\n",
       "      <td>6.00</td>\n",
       "      <td>2023042000451208820001-1</td>\n",
       "      <td>-2414</td>\n",
       "    </tr>\n",
       "    <tr>\n",
       "      <th>...</th>\n",
       "      <td>...</td>\n",
       "      <td>...</td>\n",
       "      <td>...</td>\n",
       "    </tr>\n",
       "    <tr>\n",
       "      <th>21507</th>\n",
       "      <td>67.88</td>\n",
       "      <td>2023050300455869090001-1</td>\n",
       "      <td>7969</td>\n",
       "    </tr>\n",
       "    <tr>\n",
       "      <th>21508</th>\n",
       "      <td>67.88</td>\n",
       "      <td>2023050350000045510001-2</td>\n",
       "      <td>2573</td>\n",
       "    </tr>\n",
       "    <tr>\n",
       "      <th>21509</th>\n",
       "      <td>67.88</td>\n",
       "      <td>2023050350000045510002-2</td>\n",
       "      <td>1922</td>\n",
       "    </tr>\n",
       "    <tr>\n",
       "      <th>21510</th>\n",
       "      <td>67.88</td>\n",
       "      <td>2023050350000045510003-2</td>\n",
       "      <td>18</td>\n",
       "    </tr>\n",
       "    <tr>\n",
       "      <th>21567</th>\n",
       "      <td>7.17</td>\n",
       "      <td>2023033100431486510001-2</td>\n",
       "      <td>5173</td>\n",
       "    </tr>\n",
       "  </tbody>\n",
       "</table>\n",
       "<p>11952 rows × 3 columns</p>\n",
       "</div>"
      ],
      "text/plain": [
       "       preco           str_numcontrato  saldo\n",
       "1       1.47  2023041900423934400001-2 -12233\n",
       "2      10.10  2023041200448361060001-1   9674\n",
       "5       0.61  2023042600400163290001-2 -16010\n",
       "17      0.98  2023033000444158040001-1 -17797\n",
       "26      6.00  2023042000451208820001-1  -2414\n",
       "...      ...                       ...    ...\n",
       "21507  67.88  2023050300455869090001-1   7969\n",
       "21508  67.88  2023050350000045510001-2   2573\n",
       "21509  67.88  2023050350000045510002-2   1922\n",
       "21510  67.88  2023050350000045510003-2     18\n",
       "21567   7.17  2023033100431486510001-2   5173\n",
       "\n",
       "[11952 rows x 3 columns]"
      ]
     },
     "execution_count": 46,
     "metadata": {},
     "output_type": "execute_result"
    }
   ],
   "source": [
    "filt"
   ]
  },
  {
   "cell_type": "code",
   "execution_count": 47,
   "metadata": {},
   "outputs": [],
   "source": [
    "filt['tipo'] = filt['saldo'].apply(lambda x: 'T' if x>0 else 'D')"
   ]
  },
  {
   "cell_type": "code",
   "execution_count": 48,
   "metadata": {},
   "outputs": [],
   "source": [
    "df.fillna(0,inplace=True)\n",
    "df = df[(df['str_mesa'].isin(['Kapitalo 11.1','Kapitalo 1.0'])) & (df['dbl_quantidade']!=0)]\n",
    "df['codigo'] = df['str_serie'].apply(lambda x: x.split('-')[0])\n",
    "df['tipo'] = df['str_serie'].apply(lambda x: x.split('-')[1])\n",
    "df = df.merge(filt,on=['str_numcontrato','tipo'],how='inner')\n",
    "df = df.drop_duplicates()"
   ]
  },
  {
   "cell_type": "code",
   "execution_count": 49,
   "metadata": {},
   "outputs": [],
   "source": [
    "check = filt.drop_duplicates().merge(df[['tipo','str_numcontrato','dbl_quantidade']].drop_duplicates().groupby(['tipo','str_numcontrato']).agg({'dbl_quantidade':sum}).reset_index().drop_duplicates(),on=['tipo','str_numcontrato'],how='inner')"
   ]
  },
  {
   "cell_type": "code",
   "execution_count": 50,
   "metadata": {},
   "outputs": [],
   "source": [
    "rebal = check.loc[(check['dbl_quantidade']!=check['saldo'])]\n"
   ]
  },
  {
   "cell_type": "code",
   "execution_count": 51,
   "metadata": {},
   "outputs": [
    {
     "data": {
      "text/html": [
       "<div>\n",
       "<style scoped>\n",
       "    .dataframe tbody tr th:only-of-type {\n",
       "        vertical-align: middle;\n",
       "    }\n",
       "\n",
       "    .dataframe tbody tr th {\n",
       "        vertical-align: top;\n",
       "    }\n",
       "\n",
       "    .dataframe thead th {\n",
       "        text-align: right;\n",
       "    }\n",
       "</style>\n",
       "<table border=\"1\" class=\"dataframe\">\n",
       "  <thead>\n",
       "    <tr style=\"text-align: right;\">\n",
       "      <th></th>\n",
       "      <th>dte_data</th>\n",
       "      <th>str_fundo</th>\n",
       "      <th>str_mercado</th>\n",
       "      <th>str_codigo</th>\n",
       "      <th>str_serie</th>\n",
       "      <th>str_mesa</th>\n",
       "      <th>str_estrategia</th>\n",
       "      <th>str_numcontrato</th>\n",
       "      <th>dbl_quantidade</th>\n",
       "      <th>codigo</th>\n",
       "      <th>tipo</th>\n",
       "      <th>preco</th>\n",
       "      <th>saldo</th>\n",
       "    </tr>\n",
       "  </thead>\n",
       "  <tbody>\n",
       "    <tr>\n",
       "      <th>31</th>\n",
       "      <td>2023-05-03</td>\n",
       "      <td>KAPITALO ZETA MASTER FIA</td>\n",
       "      <td>Emprestimo RV</td>\n",
       "      <td>CRFB</td>\n",
       "      <td>CRFB3-T-2,64-20230510-BALCAO</td>\n",
       "      <td>Kapitalo 11.1</td>\n",
       "      <td>Bolsa 2</td>\n",
       "      <td>2023032800443320550001-1</td>\n",
       "      <td>33.0</td>\n",
       "      <td>CRFB3</td>\n",
       "      <td>T</td>\n",
       "      <td>11.47</td>\n",
       "      <td>67</td>\n",
       "    </tr>\n",
       "    <tr>\n",
       "      <th>32</th>\n",
       "      <td>2023-05-03</td>\n",
       "      <td>KAPITALO ZETA MASTER FIA</td>\n",
       "      <td>Emprestimo RV</td>\n",
       "      <td>CRFB</td>\n",
       "      <td>CRFB3-T-2,64-20230510-BALCAO</td>\n",
       "      <td>Kapitalo 1.0</td>\n",
       "      <td>Bolsa 2</td>\n",
       "      <td>2023032800443320550001-1</td>\n",
       "      <td>33.0</td>\n",
       "      <td>CRFB3</td>\n",
       "      <td>T</td>\n",
       "      <td>11.47</td>\n",
       "      <td>67</td>\n",
       "    </tr>\n",
       "  </tbody>\n",
       "</table>\n",
       "</div>"
      ],
      "text/plain": [
       "      dte_data                 str_fundo    str_mercado str_codigo  \\\n",
       "31  2023-05-03  KAPITALO ZETA MASTER FIA  Emprestimo RV       CRFB   \n",
       "32  2023-05-03  KAPITALO ZETA MASTER FIA  Emprestimo RV       CRFB   \n",
       "\n",
       "                       str_serie       str_mesa str_estrategia  \\\n",
       "31  CRFB3-T-2,64-20230510-BALCAO  Kapitalo 11.1        Bolsa 2   \n",
       "32  CRFB3-T-2,64-20230510-BALCAO   Kapitalo 1.0        Bolsa 2   \n",
       "\n",
       "             str_numcontrato  dbl_quantidade codigo tipo  preco  saldo  \n",
       "31  2023032800443320550001-1            33.0  CRFB3    T  11.47     67  \n",
       "32  2023032800443320550001-1            33.0  CRFB3    T  11.47     67  "
      ]
     },
     "execution_count": 51,
     "metadata": {},
     "output_type": "execute_result"
    }
   ],
   "source": [
    "df[df['str_numcontrato']=='2023032800443320550001-1']"
   ]
  },
  {
   "cell_type": "code",
   "execution_count": 52,
   "metadata": {},
   "outputs": [
    {
     "data": {
      "text/html": [
       "<div>\n",
       "<style scoped>\n",
       "    .dataframe tbody tr th:only-of-type {\n",
       "        vertical-align: middle;\n",
       "    }\n",
       "\n",
       "    .dataframe tbody tr th {\n",
       "        vertical-align: top;\n",
       "    }\n",
       "\n",
       "    .dataframe thead th {\n",
       "        text-align: right;\n",
       "    }\n",
       "</style>\n",
       "<table border=\"1\" class=\"dataframe\">\n",
       "  <thead>\n",
       "    <tr style=\"text-align: right;\">\n",
       "      <th></th>\n",
       "      <th>preco</th>\n",
       "      <th>str_numcontrato</th>\n",
       "      <th>saldo</th>\n",
       "      <th>tipo</th>\n",
       "      <th>dbl_quantidade</th>\n",
       "    </tr>\n",
       "  </thead>\n",
       "  <tbody>\n",
       "    <tr>\n",
       "      <th>1</th>\n",
       "      <td>0.98</td>\n",
       "      <td>2023032900430014760001-2</td>\n",
       "      <td>2491</td>\n",
       "      <td>T</td>\n",
       "      <td>8809.0</td>\n",
       "    </tr>\n",
       "    <tr>\n",
       "      <th>4</th>\n",
       "      <td>2.66</td>\n",
       "      <td>2023033000444231810001-1</td>\n",
       "      <td>10379</td>\n",
       "      <td>T</td>\n",
       "      <td>690.0</td>\n",
       "    </tr>\n",
       "    <tr>\n",
       "      <th>6</th>\n",
       "      <td>4.63</td>\n",
       "      <td>2023033000444231740001-1</td>\n",
       "      <td>2100</td>\n",
       "      <td>T</td>\n",
       "      <td>4428.0</td>\n",
       "    </tr>\n",
       "    <tr>\n",
       "      <th>7</th>\n",
       "      <td>4.63</td>\n",
       "      <td>2023033000444231740001-1</td>\n",
       "      <td>6528</td>\n",
       "      <td>T</td>\n",
       "      <td>4428.0</td>\n",
       "    </tr>\n",
       "    <tr>\n",
       "      <th>8</th>\n",
       "      <td>2.69</td>\n",
       "      <td>2023033000444310030001-1</td>\n",
       "      <td>1282</td>\n",
       "      <td>T</td>\n",
       "      <td>10749.0</td>\n",
       "    </tr>\n",
       "    <tr>\n",
       "      <th>9</th>\n",
       "      <td>14.58</td>\n",
       "      <td>2023032900444011290001-1</td>\n",
       "      <td>180434</td>\n",
       "      <td>T</td>\n",
       "      <td>88066.0</td>\n",
       "    </tr>\n",
       "    <tr>\n",
       "      <th>10</th>\n",
       "      <td>62.33</td>\n",
       "      <td>2023032800443426110001-1</td>\n",
       "      <td>1400</td>\n",
       "      <td>T</td>\n",
       "      <td>604.0</td>\n",
       "    </tr>\n",
       "    <tr>\n",
       "      <th>21</th>\n",
       "      <td>18.92</td>\n",
       "      <td>2023033000444455270001-1</td>\n",
       "      <td>22938</td>\n",
       "      <td>T</td>\n",
       "      <td>7200.0</td>\n",
       "    </tr>\n",
       "    <tr>\n",
       "      <th>22</th>\n",
       "      <td>20.12</td>\n",
       "      <td>2023041100447689040001-1</td>\n",
       "      <td>1300</td>\n",
       "      <td>T</td>\n",
       "      <td>5231.0</td>\n",
       "    </tr>\n",
       "    <tr>\n",
       "      <th>26</th>\n",
       "      <td>31.16</td>\n",
       "      <td>2023033000444339430001-1</td>\n",
       "      <td>1004</td>\n",
       "      <td>T</td>\n",
       "      <td>15604.0</td>\n",
       "    </tr>\n",
       "    <tr>\n",
       "      <th>27</th>\n",
       "      <td>11.37</td>\n",
       "      <td>2023041000447343190001-1</td>\n",
       "      <td>4458</td>\n",
       "      <td>T</td>\n",
       "      <td>1021.0</td>\n",
       "    </tr>\n",
       "    <tr>\n",
       "      <th>32</th>\n",
       "      <td>2.97</td>\n",
       "      <td>2023033000444313460001-1</td>\n",
       "      <td>13208</td>\n",
       "      <td>T</td>\n",
       "      <td>20759.0</td>\n",
       "    </tr>\n",
       "    <tr>\n",
       "      <th>33</th>\n",
       "      <td>32.89</td>\n",
       "      <td>2023033000444310550001-1</td>\n",
       "      <td>7132</td>\n",
       "      <td>T</td>\n",
       "      <td>12868.0</td>\n",
       "    </tr>\n",
       "    <tr>\n",
       "      <th>34</th>\n",
       "      <td>25.38</td>\n",
       "      <td>2023033100444715280001-1</td>\n",
       "      <td>38763</td>\n",
       "      <td>T</td>\n",
       "      <td>53217.0</td>\n",
       "    </tr>\n",
       "    <tr>\n",
       "      <th>39</th>\n",
       "      <td>7.94</td>\n",
       "      <td>2023033000444458620001-1</td>\n",
       "      <td>132700</td>\n",
       "      <td>T</td>\n",
       "      <td>47300.0</td>\n",
       "    </tr>\n",
       "    <tr>\n",
       "      <th>43</th>\n",
       "      <td>15.36</td>\n",
       "      <td>2023041000447343170001-1</td>\n",
       "      <td>5600</td>\n",
       "      <td>T</td>\n",
       "      <td>3100.0</td>\n",
       "    </tr>\n",
       "    <tr>\n",
       "      <th>44</th>\n",
       "      <td>3.05</td>\n",
       "      <td>2023030600435528630001-1</td>\n",
       "      <td>8700</td>\n",
       "      <td>T</td>\n",
       "      <td>27085.0</td>\n",
       "    </tr>\n",
       "    <tr>\n",
       "      <th>45</th>\n",
       "      <td>3.05</td>\n",
       "      <td>2023030600435529690001-1</td>\n",
       "      <td>400</td>\n",
       "      <td>T</td>\n",
       "      <td>2500.0</td>\n",
       "    </tr>\n",
       "    <tr>\n",
       "      <th>51</th>\n",
       "      <td>1.06</td>\n",
       "      <td>2023032900430238740001-2</td>\n",
       "      <td>1000</td>\n",
       "      <td>T</td>\n",
       "      <td>2500.0</td>\n",
       "    </tr>\n",
       "    <tr>\n",
       "      <th>57</th>\n",
       "      <td>20.26</td>\n",
       "      <td>2023033000444450720001-1</td>\n",
       "      <td>4434</td>\n",
       "      <td>T</td>\n",
       "      <td>3166.0</td>\n",
       "    </tr>\n",
       "    <tr>\n",
       "      <th>63</th>\n",
       "      <td>8.45</td>\n",
       "      <td>2023033000444341410001-1</td>\n",
       "      <td>15818</td>\n",
       "      <td>T</td>\n",
       "      <td>11782.0</td>\n",
       "    </tr>\n",
       "    <tr>\n",
       "      <th>65</th>\n",
       "      <td>7.06</td>\n",
       "      <td>2023040500446301330001-1</td>\n",
       "      <td>1128</td>\n",
       "      <td>T</td>\n",
       "      <td>1963.0</td>\n",
       "    </tr>\n",
       "    <tr>\n",
       "      <th>69</th>\n",
       "      <td>20.36</td>\n",
       "      <td>2023032700442967170001-1</td>\n",
       "      <td>642</td>\n",
       "      <td>T</td>\n",
       "      <td>1251.0</td>\n",
       "    </tr>\n",
       "    <tr>\n",
       "      <th>70</th>\n",
       "      <td>20.36</td>\n",
       "      <td>2023032700442967170001-1</td>\n",
       "      <td>1893</td>\n",
       "      <td>T</td>\n",
       "      <td>1251.0</td>\n",
       "    </tr>\n",
       "    <tr>\n",
       "      <th>71</th>\n",
       "      <td>4.29</td>\n",
       "      <td>2023040300418452540001-2</td>\n",
       "      <td>997</td>\n",
       "      <td>T</td>\n",
       "      <td>2434.0</td>\n",
       "    </tr>\n",
       "    <tr>\n",
       "      <th>72</th>\n",
       "      <td>2.69</td>\n",
       "      <td>2023033000444310140001-1</td>\n",
       "      <td>4366</td>\n",
       "      <td>T</td>\n",
       "      <td>3378.0</td>\n",
       "    </tr>\n",
       "    <tr>\n",
       "      <th>75</th>\n",
       "      <td>5.07</td>\n",
       "      <td>2023033100431149630001-2</td>\n",
       "      <td>56</td>\n",
       "      <td>T</td>\n",
       "      <td>46.0</td>\n",
       "    </tr>\n",
       "    <tr>\n",
       "      <th>76</th>\n",
       "      <td>3.48</td>\n",
       "      <td>2023033100431323910001-2</td>\n",
       "      <td>25</td>\n",
       "      <td>T</td>\n",
       "      <td>28.0</td>\n",
       "    </tr>\n",
       "    <tr>\n",
       "      <th>78</th>\n",
       "      <td>1.02</td>\n",
       "      <td>2023032300442171650001-1</td>\n",
       "      <td>500</td>\n",
       "      <td>T</td>\n",
       "      <td>100.0</td>\n",
       "    </tr>\n",
       "    <tr>\n",
       "      <th>80</th>\n",
       "      <td>11.47</td>\n",
       "      <td>2023032800443320550001-1</td>\n",
       "      <td>67</td>\n",
       "      <td>T</td>\n",
       "      <td>33.0</td>\n",
       "    </tr>\n",
       "    <tr>\n",
       "      <th>81</th>\n",
       "      <td>2.75</td>\n",
       "      <td>2023041000447339790001-1</td>\n",
       "      <td>292</td>\n",
       "      <td>T</td>\n",
       "      <td>100.0</td>\n",
       "    </tr>\n",
       "    <tr>\n",
       "      <th>82</th>\n",
       "      <td>2.24</td>\n",
       "      <td>2023032800443320570001-1</td>\n",
       "      <td>485</td>\n",
       "      <td>T</td>\n",
       "      <td>467.0</td>\n",
       "    </tr>\n",
       "    <tr>\n",
       "      <th>83</th>\n",
       "      <td>3.34</td>\n",
       "      <td>2023032800443335440001-1</td>\n",
       "      <td>228</td>\n",
       "      <td>T</td>\n",
       "      <td>107.0</td>\n",
       "    </tr>\n",
       "    <tr>\n",
       "      <th>85</th>\n",
       "      <td>8.30</td>\n",
       "      <td>2023040300445154200001-1</td>\n",
       "      <td>40</td>\n",
       "      <td>T</td>\n",
       "      <td>267.0</td>\n",
       "    </tr>\n",
       "    <tr>\n",
       "      <th>90</th>\n",
       "      <td>1.21</td>\n",
       "      <td>2023033100431153490001-2</td>\n",
       "      <td>37135</td>\n",
       "      <td>T</td>\n",
       "      <td>168245.0</td>\n",
       "    </tr>\n",
       "    <tr>\n",
       "      <th>92</th>\n",
       "      <td>1.47</td>\n",
       "      <td>2023041900423934400001-2</td>\n",
       "      <td>4222</td>\n",
       "      <td>T</td>\n",
       "      <td>16455.0</td>\n",
       "    </tr>\n",
       "    <tr>\n",
       "      <th>93</th>\n",
       "      <td>1.47</td>\n",
       "      <td>2023041900423934420001-2</td>\n",
       "      <td>1921</td>\n",
       "      <td>T</td>\n",
       "      <td>10731.0</td>\n",
       "    </tr>\n",
       "    <tr>\n",
       "      <th>98</th>\n",
       "      <td>12.40</td>\n",
       "      <td>2023042600453057460001-1</td>\n",
       "      <td>92850</td>\n",
       "      <td>T</td>\n",
       "      <td>113130.0</td>\n",
       "    </tr>\n",
       "    <tr>\n",
       "      <th>101</th>\n",
       "      <td>16.12</td>\n",
       "      <td>2023041200448212120001-1</td>\n",
       "      <td>1994</td>\n",
       "      <td>T</td>\n",
       "      <td>3094.0</td>\n",
       "    </tr>\n",
       "    <tr>\n",
       "      <th>112</th>\n",
       "      <td>11.19</td>\n",
       "      <td>2023042600453057410001-1</td>\n",
       "      <td>36786</td>\n",
       "      <td>T</td>\n",
       "      <td>44770.0</td>\n",
       "    </tr>\n",
       "    <tr>\n",
       "      <th>116</th>\n",
       "      <td>20.06</td>\n",
       "      <td>2023032300442171560001-1</td>\n",
       "      <td>488</td>\n",
       "      <td>T</td>\n",
       "      <td>244.0</td>\n",
       "    </tr>\n",
       "    <tr>\n",
       "      <th>117</th>\n",
       "      <td>18.40</td>\n",
       "      <td>2023042600453057760001-1</td>\n",
       "      <td>25322</td>\n",
       "      <td>T</td>\n",
       "      <td>55090.0</td>\n",
       "    </tr>\n",
       "    <tr>\n",
       "      <th>119</th>\n",
       "      <td>3.66</td>\n",
       "      <td>2023041000447360570001-1</td>\n",
       "      <td>4027</td>\n",
       "      <td>T</td>\n",
       "      <td>241.0</td>\n",
       "    </tr>\n",
       "    <tr>\n",
       "      <th>120</th>\n",
       "      <td>4.63</td>\n",
       "      <td>2023033000444231790001-1</td>\n",
       "      <td>3706</td>\n",
       "      <td>T</td>\n",
       "      <td>4059.0</td>\n",
       "    </tr>\n",
       "    <tr>\n",
       "      <th>128</th>\n",
       "      <td>2.86</td>\n",
       "      <td>2023040300445151740001-1</td>\n",
       "      <td>4400</td>\n",
       "      <td>T</td>\n",
       "      <td>1000.0</td>\n",
       "    </tr>\n",
       "    <tr>\n",
       "      <th>130</th>\n",
       "      <td>43.00</td>\n",
       "      <td>2023033000444231980001-1</td>\n",
       "      <td>10905</td>\n",
       "      <td>T</td>\n",
       "      <td>35050.0</td>\n",
       "    </tr>\n",
       "    <tr>\n",
       "      <th>143</th>\n",
       "      <td>34.87</td>\n",
       "      <td>2023040300445399840001-1</td>\n",
       "      <td>301</td>\n",
       "      <td>T</td>\n",
       "      <td>5209.0</td>\n",
       "    </tr>\n",
       "    <tr>\n",
       "      <th>144</th>\n",
       "      <td>78.63</td>\n",
       "      <td>2023032700442967240001-1</td>\n",
       "      <td>389</td>\n",
       "      <td>T</td>\n",
       "      <td>882.0</td>\n",
       "    </tr>\n",
       "    <tr>\n",
       "      <th>156</th>\n",
       "      <td>7.17</td>\n",
       "      <td>2023033100431486510001-2</td>\n",
       "      <td>5173</td>\n",
       "      <td>T</td>\n",
       "      <td>13558.0</td>\n",
       "    </tr>\n",
       "  </tbody>\n",
       "</table>\n",
       "</div>"
      ],
      "text/plain": [
       "     preco           str_numcontrato   saldo tipo  dbl_quantidade\n",
       "1     0.98  2023032900430014760001-2    2491    T          8809.0\n",
       "4     2.66  2023033000444231810001-1   10379    T           690.0\n",
       "6     4.63  2023033000444231740001-1    2100    T          4428.0\n",
       "7     4.63  2023033000444231740001-1    6528    T          4428.0\n",
       "8     2.69  2023033000444310030001-1    1282    T         10749.0\n",
       "9    14.58  2023032900444011290001-1  180434    T         88066.0\n",
       "10   62.33  2023032800443426110001-1    1400    T           604.0\n",
       "21   18.92  2023033000444455270001-1   22938    T          7200.0\n",
       "22   20.12  2023041100447689040001-1    1300    T          5231.0\n",
       "26   31.16  2023033000444339430001-1    1004    T         15604.0\n",
       "27   11.37  2023041000447343190001-1    4458    T          1021.0\n",
       "32    2.97  2023033000444313460001-1   13208    T         20759.0\n",
       "33   32.89  2023033000444310550001-1    7132    T         12868.0\n",
       "34   25.38  2023033100444715280001-1   38763    T         53217.0\n",
       "39    7.94  2023033000444458620001-1  132700    T         47300.0\n",
       "43   15.36  2023041000447343170001-1    5600    T          3100.0\n",
       "44    3.05  2023030600435528630001-1    8700    T         27085.0\n",
       "45    3.05  2023030600435529690001-1     400    T          2500.0\n",
       "51    1.06  2023032900430238740001-2    1000    T          2500.0\n",
       "57   20.26  2023033000444450720001-1    4434    T          3166.0\n",
       "63    8.45  2023033000444341410001-1   15818    T         11782.0\n",
       "65    7.06  2023040500446301330001-1    1128    T          1963.0\n",
       "69   20.36  2023032700442967170001-1     642    T          1251.0\n",
       "70   20.36  2023032700442967170001-1    1893    T          1251.0\n",
       "71    4.29  2023040300418452540001-2     997    T          2434.0\n",
       "72    2.69  2023033000444310140001-1    4366    T          3378.0\n",
       "75    5.07  2023033100431149630001-2      56    T            46.0\n",
       "76    3.48  2023033100431323910001-2      25    T            28.0\n",
       "78    1.02  2023032300442171650001-1     500    T           100.0\n",
       "80   11.47  2023032800443320550001-1      67    T            33.0\n",
       "81    2.75  2023041000447339790001-1     292    T           100.0\n",
       "82    2.24  2023032800443320570001-1     485    T           467.0\n",
       "83    3.34  2023032800443335440001-1     228    T           107.0\n",
       "85    8.30  2023040300445154200001-1      40    T           267.0\n",
       "90    1.21  2023033100431153490001-2   37135    T        168245.0\n",
       "92    1.47  2023041900423934400001-2    4222    T         16455.0\n",
       "93    1.47  2023041900423934420001-2    1921    T         10731.0\n",
       "98   12.40  2023042600453057460001-1   92850    T        113130.0\n",
       "101  16.12  2023041200448212120001-1    1994    T          3094.0\n",
       "112  11.19  2023042600453057410001-1   36786    T         44770.0\n",
       "116  20.06  2023032300442171560001-1     488    T           244.0\n",
       "117  18.40  2023042600453057760001-1   25322    T         55090.0\n",
       "119   3.66  2023041000447360570001-1    4027    T           241.0\n",
       "120   4.63  2023033000444231790001-1    3706    T          4059.0\n",
       "128   2.86  2023040300445151740001-1    4400    T          1000.0\n",
       "130  43.00  2023033000444231980001-1   10905    T         35050.0\n",
       "143  34.87  2023040300445399840001-1     301    T          5209.0\n",
       "144  78.63  2023032700442967240001-1     389    T           882.0\n",
       "156   7.17  2023033100431486510001-2    5173    T         13558.0"
      ]
     },
     "execution_count": 52,
     "metadata": {},
     "output_type": "execute_result"
    }
   ],
   "source": [
    "rebal"
   ]
  },
  {
   "cell_type": "code",
   "execution_count": 53,
   "metadata": {},
   "outputs": [],
   "source": [
    "ex_df = df[df['str_numcontrato'].isin(rebal['str_numcontrato'])]"
   ]
  },
  {
   "cell_type": "code",
   "execution_count": 54,
   "metadata": {},
   "outputs": [],
   "source": [
    "f_df = df[~df['str_numcontrato'].isin(rebal['str_numcontrato'])]"
   ]
  },
  {
   "cell_type": "code",
   "execution_count": 55,
   "metadata": {},
   "outputs": [],
   "source": [
    "ex_df = ex_df.merge(rebal[['str_numcontrato', 'tipo', 'dbl_quantidade']].rename(columns={'dbl_quantidade':'full size'}),on=['str_numcontrato', 'tipo'],how='inner')"
   ]
  },
  {
   "cell_type": "code",
   "execution_count": 56,
   "metadata": {},
   "outputs": [
    {
     "data": {
      "text/html": [
       "<div>\n",
       "<style scoped>\n",
       "    .dataframe tbody tr th:only-of-type {\n",
       "        vertical-align: middle;\n",
       "    }\n",
       "\n",
       "    .dataframe tbody tr th {\n",
       "        vertical-align: top;\n",
       "    }\n",
       "\n",
       "    .dataframe thead th {\n",
       "        text-align: right;\n",
       "    }\n",
       "</style>\n",
       "<table border=\"1\" class=\"dataframe\">\n",
       "  <thead>\n",
       "    <tr style=\"text-align: right;\">\n",
       "      <th></th>\n",
       "      <th>dte_data</th>\n",
       "      <th>str_fundo</th>\n",
       "      <th>str_mercado</th>\n",
       "      <th>str_codigo</th>\n",
       "      <th>str_serie</th>\n",
       "      <th>str_mesa</th>\n",
       "      <th>str_estrategia</th>\n",
       "      <th>str_numcontrato</th>\n",
       "      <th>dbl_quantidade</th>\n",
       "      <th>codigo</th>\n",
       "      <th>tipo</th>\n",
       "      <th>preco</th>\n",
       "      <th>saldo</th>\n",
       "      <th>full size</th>\n",
       "    </tr>\n",
       "  </thead>\n",
       "  <tbody>\n",
       "    <tr>\n",
       "      <th>0</th>\n",
       "      <td>2023-05-03</td>\n",
       "      <td>KAPITALO ZETA MASTER FIM</td>\n",
       "      <td>Emprestimo RV</td>\n",
       "      <td>YDUQ</td>\n",
       "      <td>YDUQ3-T-7,89-20230515-BALCAO</td>\n",
       "      <td>Kapitalo 11.1</td>\n",
       "      <td>Bolsa 2</td>\n",
       "      <td>2023033100431486510001-2</td>\n",
       "      <td>2990.0</td>\n",
       "      <td>YDUQ3</td>\n",
       "      <td>T</td>\n",
       "      <td>7.17</td>\n",
       "      <td>5173</td>\n",
       "      <td>13558.0</td>\n",
       "    </tr>\n",
       "    <tr>\n",
       "      <th>1</th>\n",
       "      <td>2023-05-03</td>\n",
       "      <td>KAPITALO ZETA MASTER FIM</td>\n",
       "      <td>Emprestimo RV</td>\n",
       "      <td>YDUQ</td>\n",
       "      <td>YDUQ3-T-7,89-20230515-BALCAO</td>\n",
       "      <td>Kapitalo 1.0</td>\n",
       "      <td>Bolsa 2</td>\n",
       "      <td>2023033100431486510001-2</td>\n",
       "      <td>10568.0</td>\n",
       "      <td>YDUQ3</td>\n",
       "      <td>T</td>\n",
       "      <td>7.17</td>\n",
       "      <td>5173</td>\n",
       "      <td>13558.0</td>\n",
       "    </tr>\n",
       "    <tr>\n",
       "      <th>2</th>\n",
       "      <td>2023-05-03</td>\n",
       "      <td>KAPITALO ZETA MASTER FIM</td>\n",
       "      <td>Emprestimo RV</td>\n",
       "      <td>TAEE</td>\n",
       "      <td>TAEE11-T-0,05-20230516-BALCAO</td>\n",
       "      <td>Kapitalo 11.1</td>\n",
       "      <td>Bolsa 2</td>\n",
       "      <td>2023040300445399840001-1</td>\n",
       "      <td>5209.0</td>\n",
       "      <td>TAEE11</td>\n",
       "      <td>T</td>\n",
       "      <td>34.87</td>\n",
       "      <td>301</td>\n",
       "      <td>5209.0</td>\n",
       "    </tr>\n",
       "    <tr>\n",
       "      <th>3</th>\n",
       "      <td>2023-05-03</td>\n",
       "      <td>KAPITALO ZETA MASTER FIM</td>\n",
       "      <td>Emprestimo RV</td>\n",
       "      <td>RAIZ</td>\n",
       "      <td>RAIZ4-T-0,1-20230516-BALCAO</td>\n",
       "      <td>Kapitalo 1.0</td>\n",
       "      <td>Bolsa 2</td>\n",
       "      <td>2023040300445151740001-1</td>\n",
       "      <td>1000.0</td>\n",
       "      <td>RAIZ4</td>\n",
       "      <td>T</td>\n",
       "      <td>2.86</td>\n",
       "      <td>4400</td>\n",
       "      <td>1000.0</td>\n",
       "    </tr>\n",
       "    <tr>\n",
       "      <th>4</th>\n",
       "      <td>2023-05-03</td>\n",
       "      <td>KAPITALO ZETA MASTER FIM</td>\n",
       "      <td>Emprestimo RV</td>\n",
       "      <td>LJQQ</td>\n",
       "      <td>LJQQ3-T-4,13-20230522-BALCAO</td>\n",
       "      <td>Kapitalo 11.1</td>\n",
       "      <td>Bolsa 2</td>\n",
       "      <td>2023041000447360570001-1</td>\n",
       "      <td>4.0</td>\n",
       "      <td>LJQQ3</td>\n",
       "      <td>T</td>\n",
       "      <td>3.66</td>\n",
       "      <td>4027</td>\n",
       "      <td>241.0</td>\n",
       "    </tr>\n",
       "    <tr>\n",
       "      <th>...</th>\n",
       "      <td>...</td>\n",
       "      <td>...</td>\n",
       "      <td>...</td>\n",
       "      <td>...</td>\n",
       "      <td>...</td>\n",
       "      <td>...</td>\n",
       "      <td>...</td>\n",
       "      <td>...</td>\n",
       "      <td>...</td>\n",
       "      <td>...</td>\n",
       "      <td>...</td>\n",
       "      <td>...</td>\n",
       "      <td>...</td>\n",
       "      <td>...</td>\n",
       "    </tr>\n",
       "    <tr>\n",
       "      <th>71</th>\n",
       "      <td>2023-05-03</td>\n",
       "      <td>KAPITALO K10 PREV MASTER FIM</td>\n",
       "      <td>Emprestimo RV</td>\n",
       "      <td>LWSA</td>\n",
       "      <td>LWSA3-T-11,13-20230512-BALCAO</td>\n",
       "      <td>Kapitalo 11.1</td>\n",
       "      <td>Bolsa 2</td>\n",
       "      <td>2023033000444231740001-1</td>\n",
       "      <td>4428.0</td>\n",
       "      <td>LWSA3</td>\n",
       "      <td>T</td>\n",
       "      <td>4.63</td>\n",
       "      <td>6528</td>\n",
       "      <td>4428.0</td>\n",
       "    </tr>\n",
       "    <tr>\n",
       "      <th>72</th>\n",
       "      <td>2023-05-03</td>\n",
       "      <td>KAPITALO K10 PREV MASTER FIM</td>\n",
       "      <td>Emprestimo RV</td>\n",
       "      <td>LWSA</td>\n",
       "      <td>LWSA3-T-11,13-20230512-BALCAO</td>\n",
       "      <td>Kapitalo 11.1</td>\n",
       "      <td>Bolsa 2</td>\n",
       "      <td>2023033000444231740001-1</td>\n",
       "      <td>4428.0</td>\n",
       "      <td>LWSA3</td>\n",
       "      <td>T</td>\n",
       "      <td>4.63</td>\n",
       "      <td>6528</td>\n",
       "      <td>4428.0</td>\n",
       "    </tr>\n",
       "    <tr>\n",
       "      <th>73</th>\n",
       "      <td>2023-05-03</td>\n",
       "      <td>KAPITALO K10 PREV MASTER FIM</td>\n",
       "      <td>Emprestimo RV</td>\n",
       "      <td>HAPV</td>\n",
       "      <td>HAPV3-T-0,93-20230512-BALCAO</td>\n",
       "      <td>Kapitalo 11.1</td>\n",
       "      <td>Bolsa 2</td>\n",
       "      <td>2023033000444231810001-1</td>\n",
       "      <td>690.0</td>\n",
       "      <td>HAPV3</td>\n",
       "      <td>T</td>\n",
       "      <td>2.66</td>\n",
       "      <td>10379</td>\n",
       "      <td>690.0</td>\n",
       "    </tr>\n",
       "    <tr>\n",
       "      <th>74</th>\n",
       "      <td>2023-05-03</td>\n",
       "      <td>KAPITALO K10 PREV MASTER FIM</td>\n",
       "      <td>Emprestimo RV</td>\n",
       "      <td>CASH</td>\n",
       "      <td>CASH3-T-4,23-20230511-BALCAO</td>\n",
       "      <td>Kapitalo 11.1</td>\n",
       "      <td>Bolsa 2</td>\n",
       "      <td>2023032900430014760001-2</td>\n",
       "      <td>8809.0</td>\n",
       "      <td>CASH3</td>\n",
       "      <td>T</td>\n",
       "      <td>0.98</td>\n",
       "      <td>2491</td>\n",
       "      <td>8809.0</td>\n",
       "    </tr>\n",
       "    <tr>\n",
       "      <th>75</th>\n",
       "      <td>2023-05-03</td>\n",
       "      <td>KAPITALO K10 PREV MASTER FIM</td>\n",
       "      <td>Emprestimo RV</td>\n",
       "      <td>AERI</td>\n",
       "      <td>AERI3-T-1,31-20230531-BALCAO</td>\n",
       "      <td>Kapitalo 11.1</td>\n",
       "      <td>Bolsa 2</td>\n",
       "      <td>2023041900423934400001-2</td>\n",
       "      <td>16455.0</td>\n",
       "      <td>AERI3</td>\n",
       "      <td>T</td>\n",
       "      <td>1.47</td>\n",
       "      <td>4222</td>\n",
       "      <td>16455.0</td>\n",
       "    </tr>\n",
       "  </tbody>\n",
       "</table>\n",
       "<p>76 rows × 14 columns</p>\n",
       "</div>"
      ],
      "text/plain": [
       "      dte_data                     str_fundo    str_mercado str_codigo  \\\n",
       "0   2023-05-03      KAPITALO ZETA MASTER FIM  Emprestimo RV       YDUQ   \n",
       "1   2023-05-03      KAPITALO ZETA MASTER FIM  Emprestimo RV       YDUQ   \n",
       "2   2023-05-03      KAPITALO ZETA MASTER FIM  Emprestimo RV       TAEE   \n",
       "3   2023-05-03      KAPITALO ZETA MASTER FIM  Emprestimo RV       RAIZ   \n",
       "4   2023-05-03      KAPITALO ZETA MASTER FIM  Emprestimo RV       LJQQ   \n",
       "..         ...                           ...            ...        ...   \n",
       "71  2023-05-03  KAPITALO K10 PREV MASTER FIM  Emprestimo RV       LWSA   \n",
       "72  2023-05-03  KAPITALO K10 PREV MASTER FIM  Emprestimo RV       LWSA   \n",
       "73  2023-05-03  KAPITALO K10 PREV MASTER FIM  Emprestimo RV       HAPV   \n",
       "74  2023-05-03  KAPITALO K10 PREV MASTER FIM  Emprestimo RV       CASH   \n",
       "75  2023-05-03  KAPITALO K10 PREV MASTER FIM  Emprestimo RV       AERI   \n",
       "\n",
       "                        str_serie       str_mesa str_estrategia  \\\n",
       "0    YDUQ3-T-7,89-20230515-BALCAO  Kapitalo 11.1        Bolsa 2   \n",
       "1    YDUQ3-T-7,89-20230515-BALCAO   Kapitalo 1.0        Bolsa 2   \n",
       "2   TAEE11-T-0,05-20230516-BALCAO  Kapitalo 11.1        Bolsa 2   \n",
       "3     RAIZ4-T-0,1-20230516-BALCAO   Kapitalo 1.0        Bolsa 2   \n",
       "4    LJQQ3-T-4,13-20230522-BALCAO  Kapitalo 11.1        Bolsa 2   \n",
       "..                            ...            ...            ...   \n",
       "71  LWSA3-T-11,13-20230512-BALCAO  Kapitalo 11.1        Bolsa 2   \n",
       "72  LWSA3-T-11,13-20230512-BALCAO  Kapitalo 11.1        Bolsa 2   \n",
       "73   HAPV3-T-0,93-20230512-BALCAO  Kapitalo 11.1        Bolsa 2   \n",
       "74   CASH3-T-4,23-20230511-BALCAO  Kapitalo 11.1        Bolsa 2   \n",
       "75   AERI3-T-1,31-20230531-BALCAO  Kapitalo 11.1        Bolsa 2   \n",
       "\n",
       "             str_numcontrato  dbl_quantidade  codigo tipo  preco  saldo  \\\n",
       "0   2023033100431486510001-2          2990.0   YDUQ3    T   7.17   5173   \n",
       "1   2023033100431486510001-2         10568.0   YDUQ3    T   7.17   5173   \n",
       "2   2023040300445399840001-1          5209.0  TAEE11    T  34.87    301   \n",
       "3   2023040300445151740001-1          1000.0   RAIZ4    T   2.86   4400   \n",
       "4   2023041000447360570001-1             4.0   LJQQ3    T   3.66   4027   \n",
       "..                       ...             ...     ...  ...    ...    ...   \n",
       "71  2023033000444231740001-1          4428.0   LWSA3    T   4.63   6528   \n",
       "72  2023033000444231740001-1          4428.0   LWSA3    T   4.63   6528   \n",
       "73  2023033000444231810001-1           690.0   HAPV3    T   2.66  10379   \n",
       "74  2023032900430014760001-2          8809.0   CASH3    T   0.98   2491   \n",
       "75  2023041900423934400001-2         16455.0   AERI3    T   1.47   4222   \n",
       "\n",
       "    full size  \n",
       "0     13558.0  \n",
       "1     13558.0  \n",
       "2      5209.0  \n",
       "3      1000.0  \n",
       "4       241.0  \n",
       "..        ...  \n",
       "71     4428.0  \n",
       "72     4428.0  \n",
       "73      690.0  \n",
       "74     8809.0  \n",
       "75    16455.0  \n",
       "\n",
       "[76 rows x 14 columns]"
      ]
     },
     "execution_count": 56,
     "metadata": {},
     "output_type": "execute_result"
    }
   ],
   "source": [
    "ex_df"
   ]
  },
  {
   "cell_type": "code",
   "execution_count": 57,
   "metadata": {},
   "outputs": [],
   "source": [
    "ex_df['prop'] = ex_df['dbl_quantidade']/ex_df['full size']\n",
    "\n",
    "ex_df['new_qtd'] = round(ex_df['prop']*ex_df['saldo'])"
   ]
  },
  {
   "cell_type": "code",
   "execution_count": 58,
   "metadata": {},
   "outputs": [],
   "source": [
    "ex_df['dbl_quantidade'] = ex_df['new_qtd']"
   ]
  },
  {
   "cell_type": "code",
   "execution_count": 59,
   "metadata": {},
   "outputs": [],
   "source": [
    "ex_df = ex_df[f_df.columns]"
   ]
  },
  {
   "cell_type": "code",
   "execution_count": 60,
   "metadata": {},
   "outputs": [],
   "source": [
    "df = pd.concat([ex_df,f_df])"
   ]
  },
  {
   "cell_type": "code",
   "execution_count": 61,
   "metadata": {},
   "outputs": [
    {
     "data": {
      "text/html": [
       "<div>\n",
       "<style scoped>\n",
       "    .dataframe tbody tr th:only-of-type {\n",
       "        vertical-align: middle;\n",
       "    }\n",
       "\n",
       "    .dataframe tbody tr th {\n",
       "        vertical-align: top;\n",
       "    }\n",
       "\n",
       "    .dataframe thead th {\n",
       "        text-align: right;\n",
       "    }\n",
       "</style>\n",
       "<table border=\"1\" class=\"dataframe\">\n",
       "  <thead>\n",
       "    <tr style=\"text-align: right;\">\n",
       "      <th></th>\n",
       "      <th>dte_data</th>\n",
       "      <th>str_fundo</th>\n",
       "      <th>str_mercado</th>\n",
       "      <th>str_codigo</th>\n",
       "      <th>str_serie</th>\n",
       "      <th>str_mesa</th>\n",
       "      <th>str_estrategia</th>\n",
       "      <th>str_numcontrato</th>\n",
       "      <th>dbl_quantidade</th>\n",
       "      <th>codigo</th>\n",
       "      <th>tipo</th>\n",
       "      <th>preco</th>\n",
       "      <th>saldo</th>\n",
       "    </tr>\n",
       "  </thead>\n",
       "  <tbody>\n",
       "    <tr>\n",
       "      <th>0</th>\n",
       "      <td>2023-05-03</td>\n",
       "      <td>KAPITALO ZETA MASTER FIM</td>\n",
       "      <td>Emprestimo RV</td>\n",
       "      <td>YDUQ</td>\n",
       "      <td>YDUQ3-T-7,89-20230515-BALCAO</td>\n",
       "      <td>Kapitalo 11.1</td>\n",
       "      <td>Bolsa 2</td>\n",
       "      <td>2023033100431486510001-2</td>\n",
       "      <td>1141.0</td>\n",
       "      <td>YDUQ3</td>\n",
       "      <td>T</td>\n",
       "      <td>7.17</td>\n",
       "      <td>5173</td>\n",
       "    </tr>\n",
       "    <tr>\n",
       "      <th>1</th>\n",
       "      <td>2023-05-03</td>\n",
       "      <td>KAPITALO ZETA MASTER FIM</td>\n",
       "      <td>Emprestimo RV</td>\n",
       "      <td>YDUQ</td>\n",
       "      <td>YDUQ3-T-7,89-20230515-BALCAO</td>\n",
       "      <td>Kapitalo 1.0</td>\n",
       "      <td>Bolsa 2</td>\n",
       "      <td>2023033100431486510001-2</td>\n",
       "      <td>4032.0</td>\n",
       "      <td>YDUQ3</td>\n",
       "      <td>T</td>\n",
       "      <td>7.17</td>\n",
       "      <td>5173</td>\n",
       "    </tr>\n",
       "    <tr>\n",
       "      <th>2</th>\n",
       "      <td>2023-05-03</td>\n",
       "      <td>KAPITALO ZETA MASTER FIM</td>\n",
       "      <td>Emprestimo RV</td>\n",
       "      <td>TAEE</td>\n",
       "      <td>TAEE11-T-0,05-20230516-BALCAO</td>\n",
       "      <td>Kapitalo 11.1</td>\n",
       "      <td>Bolsa 2</td>\n",
       "      <td>2023040300445399840001-1</td>\n",
       "      <td>301.0</td>\n",
       "      <td>TAEE11</td>\n",
       "      <td>T</td>\n",
       "      <td>34.87</td>\n",
       "      <td>301</td>\n",
       "    </tr>\n",
       "    <tr>\n",
       "      <th>3</th>\n",
       "      <td>2023-05-03</td>\n",
       "      <td>KAPITALO ZETA MASTER FIM</td>\n",
       "      <td>Emprestimo RV</td>\n",
       "      <td>RAIZ</td>\n",
       "      <td>RAIZ4-T-0,1-20230516-BALCAO</td>\n",
       "      <td>Kapitalo 1.0</td>\n",
       "      <td>Bolsa 2</td>\n",
       "      <td>2023040300445151740001-1</td>\n",
       "      <td>4400.0</td>\n",
       "      <td>RAIZ4</td>\n",
       "      <td>T</td>\n",
       "      <td>2.86</td>\n",
       "      <td>4400</td>\n",
       "    </tr>\n",
       "    <tr>\n",
       "      <th>4</th>\n",
       "      <td>2023-05-03</td>\n",
       "      <td>KAPITALO ZETA MASTER FIM</td>\n",
       "      <td>Emprestimo RV</td>\n",
       "      <td>LJQQ</td>\n",
       "      <td>LJQQ3-T-4,13-20230522-BALCAO</td>\n",
       "      <td>Kapitalo 11.1</td>\n",
       "      <td>Bolsa 2</td>\n",
       "      <td>2023041000447360570001-1</td>\n",
       "      <td>67.0</td>\n",
       "      <td>LJQQ3</td>\n",
       "      <td>T</td>\n",
       "      <td>3.66</td>\n",
       "      <td>4027</td>\n",
       "    </tr>\n",
       "    <tr>\n",
       "      <th>...</th>\n",
       "      <td>...</td>\n",
       "      <td>...</td>\n",
       "      <td>...</td>\n",
       "      <td>...</td>\n",
       "      <td>...</td>\n",
       "      <td>...</td>\n",
       "      <td>...</td>\n",
       "      <td>...</td>\n",
       "      <td>...</td>\n",
       "      <td>...</td>\n",
       "      <td>...</td>\n",
       "      <td>...</td>\n",
       "      <td>...</td>\n",
       "    </tr>\n",
       "    <tr>\n",
       "      <th>220</th>\n",
       "      <td>2023-05-03</td>\n",
       "      <td>KAPITALO K10 PREV MASTER FIM</td>\n",
       "      <td>Emprestimo RV</td>\n",
       "      <td>CRFB</td>\n",
       "      <td>CRFB3-T-0,94-20230601-BALCAO</td>\n",
       "      <td>Kapitalo 11.1</td>\n",
       "      <td>Bolsa 2</td>\n",
       "      <td>2023042000451208880001-1</td>\n",
       "      <td>652.0</td>\n",
       "      <td>CRFB3</td>\n",
       "      <td>T</td>\n",
       "      <td>10.22</td>\n",
       "      <td>652</td>\n",
       "    </tr>\n",
       "    <tr>\n",
       "      <th>222</th>\n",
       "      <td>2023-05-03</td>\n",
       "      <td>KAPITALO K10 PREV MASTER FIM</td>\n",
       "      <td>Emprestimo RV</td>\n",
       "      <td>BRKM</td>\n",
       "      <td>BRKM5-T-0,1-20230601-BALCAO</td>\n",
       "      <td>Kapitalo 11.1</td>\n",
       "      <td>Bolsa 2</td>\n",
       "      <td>2023042000451208930001-1</td>\n",
       "      <td>30.0</td>\n",
       "      <td>BRKM5</td>\n",
       "      <td>T</td>\n",
       "      <td>19.70</td>\n",
       "      <td>30</td>\n",
       "    </tr>\n",
       "    <tr>\n",
       "      <th>223</th>\n",
       "      <td>2023-05-03</td>\n",
       "      <td>KAPITALO K10 PREV MASTER FIM</td>\n",
       "      <td>Emprestimo RV</td>\n",
       "      <td>BEEF</td>\n",
       "      <td>BEEF3-T-0,3-20230601-BALCAO</td>\n",
       "      <td>Kapitalo 11.1</td>\n",
       "      <td>Bolsa 2</td>\n",
       "      <td>2023042000451208660001-1</td>\n",
       "      <td>1970.0</td>\n",
       "      <td>BEEF3</td>\n",
       "      <td>T</td>\n",
       "      <td>9.21</td>\n",
       "      <td>1970</td>\n",
       "    </tr>\n",
       "    <tr>\n",
       "      <th>224</th>\n",
       "      <td>2023-05-03</td>\n",
       "      <td>KAPITALO K10 PREV MASTER FIM</td>\n",
       "      <td>Emprestimo RV</td>\n",
       "      <td>ASAI</td>\n",
       "      <td>ASAI3-T-5,05-20230601-BALCAO</td>\n",
       "      <td>Kapitalo 11.1</td>\n",
       "      <td>Bolsa 2</td>\n",
       "      <td>2023042000451208590001-1</td>\n",
       "      <td>1362.0</td>\n",
       "      <td>ASAI3</td>\n",
       "      <td>T</td>\n",
       "      <td>12.87</td>\n",
       "      <td>1362</td>\n",
       "    </tr>\n",
       "    <tr>\n",
       "      <th>225</th>\n",
       "      <td>2023-05-03</td>\n",
       "      <td>KAPITALO K10 PREV MASTER FIM</td>\n",
       "      <td>Emprestimo RV</td>\n",
       "      <td>AERI</td>\n",
       "      <td>AERI3-T-1,37-20230511-BALCAO</td>\n",
       "      <td>Kapitalo 11.1</td>\n",
       "      <td>Bolsa 2</td>\n",
       "      <td>2023032900429934630001-2</td>\n",
       "      <td>5330.0</td>\n",
       "      <td>AERI3</td>\n",
       "      <td>T</td>\n",
       "      <td>1.22</td>\n",
       "      <td>5330</td>\n",
       "    </tr>\n",
       "  </tbody>\n",
       "</table>\n",
       "<p>231 rows × 13 columns</p>\n",
       "</div>"
      ],
      "text/plain": [
       "       dte_data                     str_fundo    str_mercado str_codigo  \\\n",
       "0    2023-05-03      KAPITALO ZETA MASTER FIM  Emprestimo RV       YDUQ   \n",
       "1    2023-05-03      KAPITALO ZETA MASTER FIM  Emprestimo RV       YDUQ   \n",
       "2    2023-05-03      KAPITALO ZETA MASTER FIM  Emprestimo RV       TAEE   \n",
       "3    2023-05-03      KAPITALO ZETA MASTER FIM  Emprestimo RV       RAIZ   \n",
       "4    2023-05-03      KAPITALO ZETA MASTER FIM  Emprestimo RV       LJQQ   \n",
       "..          ...                           ...            ...        ...   \n",
       "220  2023-05-03  KAPITALO K10 PREV MASTER FIM  Emprestimo RV       CRFB   \n",
       "222  2023-05-03  KAPITALO K10 PREV MASTER FIM  Emprestimo RV       BRKM   \n",
       "223  2023-05-03  KAPITALO K10 PREV MASTER FIM  Emprestimo RV       BEEF   \n",
       "224  2023-05-03  KAPITALO K10 PREV MASTER FIM  Emprestimo RV       ASAI   \n",
       "225  2023-05-03  KAPITALO K10 PREV MASTER FIM  Emprestimo RV       AERI   \n",
       "\n",
       "                         str_serie       str_mesa str_estrategia  \\\n",
       "0     YDUQ3-T-7,89-20230515-BALCAO  Kapitalo 11.1        Bolsa 2   \n",
       "1     YDUQ3-T-7,89-20230515-BALCAO   Kapitalo 1.0        Bolsa 2   \n",
       "2    TAEE11-T-0,05-20230516-BALCAO  Kapitalo 11.1        Bolsa 2   \n",
       "3      RAIZ4-T-0,1-20230516-BALCAO   Kapitalo 1.0        Bolsa 2   \n",
       "4     LJQQ3-T-4,13-20230522-BALCAO  Kapitalo 11.1        Bolsa 2   \n",
       "..                             ...            ...            ...   \n",
       "220   CRFB3-T-0,94-20230601-BALCAO  Kapitalo 11.1        Bolsa 2   \n",
       "222    BRKM5-T-0,1-20230601-BALCAO  Kapitalo 11.1        Bolsa 2   \n",
       "223    BEEF3-T-0,3-20230601-BALCAO  Kapitalo 11.1        Bolsa 2   \n",
       "224   ASAI3-T-5,05-20230601-BALCAO  Kapitalo 11.1        Bolsa 2   \n",
       "225   AERI3-T-1,37-20230511-BALCAO  Kapitalo 11.1        Bolsa 2   \n",
       "\n",
       "              str_numcontrato  dbl_quantidade  codigo tipo  preco  saldo  \n",
       "0    2023033100431486510001-2          1141.0   YDUQ3    T   7.17   5173  \n",
       "1    2023033100431486510001-2          4032.0   YDUQ3    T   7.17   5173  \n",
       "2    2023040300445399840001-1           301.0  TAEE11    T  34.87    301  \n",
       "3    2023040300445151740001-1          4400.0   RAIZ4    T   2.86   4400  \n",
       "4    2023041000447360570001-1            67.0   LJQQ3    T   3.66   4027  \n",
       "..                        ...             ...     ...  ...    ...    ...  \n",
       "220  2023042000451208880001-1           652.0   CRFB3    T  10.22    652  \n",
       "222  2023042000451208930001-1            30.0   BRKM5    T  19.70     30  \n",
       "223  2023042000451208660001-1          1970.0   BEEF3    T   9.21   1970  \n",
       "224  2023042000451208590001-1          1362.0   ASAI3    T  12.87   1362  \n",
       "225  2023032900429934630001-2          5330.0   AERI3    T   1.22   5330  \n",
       "\n",
       "[231 rows x 13 columns]"
      ]
     },
     "execution_count": 61,
     "metadata": {},
     "output_type": "execute_result"
    }
   ],
   "source": [
    "df"
   ]
  },
  {
   "cell_type": "code",
   "execution_count": null,
   "metadata": {},
   "outputs": [],
   "source": [
    "# df['dbl_quantidade'] = df['saldo']\n",
    "\n",
    "df['taxa'] = df['str_serie'].apply(lambda x: x.split('-')[2].replace(',','.'))\n",
    "\n",
    "df['modalidade'] = df['str_serie'].apply(lambda x: x.split('-')[4])\n",
    "df['vencimento'] = df['str_serie'].apply(lambda x: x.split('-')[3])\n",
    "df['volume'] = df['dbl_quantidade'].astype(float)*df['taxa'].astype(float)\n",
    "df = df.drop_duplicates()\n",
    "ctos_btc = df\n",
    "vencimentos = df\n",
    "\n"
   ]
  },
  {
   "cell_type": "code",
   "execution_count": null,
   "metadata": {},
   "outputs": [],
   "source": [
    "df"
   ]
  },
  {
   "cell_type": "code",
   "execution_count": null,
   "metadata": {},
   "outputs": [],
   "source": [
    "df = df.groupby(['str_fundo','str_mesa','str_estrategia','codigo','tipo']).agg({'dbl_quantidade':sum,'volume':sum}).reset_index()"
   ]
  },
  {
   "cell_type": "code",
   "execution_count": null,
   "metadata": {},
   "outputs": [],
   "source": [
    "df['taxa media'] = (df['volume']/df['dbl_quantidade']).apply(lambda x: round(x,2))"
   ]
  },
  {
   "cell_type": "code",
   "execution_count": null,
   "metadata": {},
   "outputs": [],
   "source": [
    "btc = pd.pivot_table(df,index=['str_fundo','str_mesa','str_estrategia','codigo'],columns=['tipo'],values=['dbl_quantidade','taxa media']).reset_index().fillna(0)"
   ]
  },
  {
   "cell_type": "code",
   "execution_count": null,
   "metadata": {},
   "outputs": [],
   "source": [
    "btc.columns = ['fundo',\t'mesa',\t'str_estrategia','codigo','DOADO','TOMADO','TAXA DOADORA','TAXA TOMADORA']"
   ]
  },
  {
   "cell_type": "code",
   "execution_count": null,
   "metadata": {},
   "outputs": [],
   "source": []
  },
  {
   "cell_type": "code",
   "execution_count": null,
   "metadata": {},
   "outputs": [],
   "source": [
    "import workdays\n",
    "holidays_br = workdays.load_holidays('BR')\n",
    "holidays_b3 = workdays.load_holidays('B3')\n",
    "dt = datetime.date.today()\n",
    "\n",
    "\n",
    "dt_1 = workdays.workday(dt, -1, holidays_b3)\n",
    "\n",
    "dt_1 = workdays.workday(dt, -1, holidays_b3)\n",
    "vcto_0 = dt.strftime('%d/%m/%Y')\n",
    "dt_pos = workdays.workday(dt, -1, holidays_br)\n",
    "venc_interna = workdays.workday(dt, 1, holidays_br)\n",
    "\n",
    "\n",
    "\n",
    "df_pos = DB.get_equity_positions_mesas(None,dt_1)\n",
    "\n",
    "\n",
    "df_pos = pd.DataFrame(df_pos[['str_fundo','str_mesa','str_estrategia',\"regexp_replace\", \"sum\"]])\n",
    "df_pos.rename(columns={\"regexp_replace\": \"codigo\", \"sum\": \"position\",\"str_fundo\":\"fundo\",'str_mesa':'mesa'}, inplace=True)\n",
    "\n",
    "\n",
    "df_pos = df_pos[ (df_pos['mesa'].isin(['Kapitalo 11.1','Kapitalo 1.0'])) & ~(df_pos['fundo'].isin(['KAPITALO CLASS B', 'KAPITALO CLASS K', 'KAPITALO CLASS OMEGA']))]"
   ]
  },
  {
   "cell_type": "code",
   "execution_count": null,
   "metadata": {},
   "outputs": [],
   "source": [
    "mapa = df_pos.merge(btc,on=['fundo','mesa','str_estrategia','codigo'],how='outer').fillna(0)"
   ]
  },
  {
   "cell_type": "markdown",
   "metadata": {},
   "source": [
    "# Incluindo Internas K11"
   ]
  },
  {
   "cell_type": "code",
   "execution_count": null,
   "metadata": {},
   "outputs": [],
   "source": [
    "# import pandas as pd\n",
    "# k11 = pd.read_excel('internas.xlsx')"
   ]
  },
  {
   "cell_type": "code",
   "execution_count": null,
   "metadata": {},
   "outputs": [],
   "source": [
    "# k11['codigo'] = k11['SERIE'].apply(lambda x: x.split('-')[0])\n",
    "# k11['taxa'] = k11['SERIE'].apply(lambda x: x.split('-')[2].replace(',','.'))\n",
    "# k11['tipo'] = k11['SERIE'].apply(lambda x: x.split('-')[1])\n",
    "# k11['modalidade'] = k11['SERIE'].apply(lambda x: x.split('-')[4])\n",
    "# k11['vencimento'] = k11['SERIE'].apply(lambda x: x.split('-')[3])\n",
    "# k11['volume'] = k11['NOTIONAL'].astype(float)*k11['taxa'].astype(float)"
   ]
  },
  {
   "cell_type": "code",
   "execution_count": null,
   "metadata": {},
   "outputs": [],
   "source": [
    "\n",
    "\n",
    "# k11 = k11.rename(columns={'ALOCACAO':'str_fundo','MESA':'str_mesa','ESTRATEGIA':'str_estrategia','NOTIONAL':'dbl_quantidade'})"
   ]
  },
  {
   "cell_type": "code",
   "execution_count": null,
   "metadata": {},
   "outputs": [],
   "source": [
    "# k11 = k11.groupby(['str_fundo','str_mesa','str_estrategia','codigo','tipo']).agg({'dbl_quantidade':sum,'volume':sum}).reset_index()"
   ]
  },
  {
   "cell_type": "code",
   "execution_count": null,
   "metadata": {},
   "outputs": [],
   "source": [
    "# k11 = pd.pivot_table(k11,index=['str_fundo','str_mesa','str_estrategia','codigo'],columns='tipo',values='dbl_quantidade').reset_index().fillna(0)"
   ]
  },
  {
   "cell_type": "code",
   "execution_count": null,
   "metadata": {},
   "outputs": [],
   "source": []
  },
  {
   "cell_type": "code",
   "execution_count": null,
   "metadata": {},
   "outputs": [],
   "source": [
    "# k11.rename(columns={'D':'interna DOADO','T':'interna TOMADO'},inplace=True)"
   ]
  },
  {
   "cell_type": "code",
   "execution_count": null,
   "metadata": {},
   "outputs": [],
   "source": [
    "# k11.columns = ['fundo',\t'mesa',\t'str_estrategia','codigo','interna DOADO','interna TOMADO']"
   ]
  },
  {
   "cell_type": "markdown",
   "metadata": {},
   "source": [
    "# Incluindo Internas Mesas"
   ]
  },
  {
   "cell_type": "code",
   "execution_count": null,
   "metadata": {},
   "outputs": [],
   "source": [
    "mesa = pd.read_excel('mesa.xlsx')"
   ]
  },
  {
   "cell_type": "code",
   "execution_count": null,
   "metadata": {},
   "outputs": [],
   "source": [
    "mesa = pd.pivot_table(mesa,index=['str_fundo','str_mesa','str_estrategia','codigo'],columns='tipo',values='lote estrategia').reset_index()"
   ]
  },
  {
   "cell_type": "code",
   "execution_count": null,
   "metadata": {},
   "outputs": [],
   "source": [
    "# mesa['mesas DOADO'] = mesa['D']*-1\n",
    "mesa['mesas DOADO'] = 0\n",
    "\n",
    "mesa['mesas TOMADO'] = mesa['T']*-1"
   ]
  },
  {
   "cell_type": "code",
   "execution_count": null,
   "metadata": {},
   "outputs": [],
   "source": [
    "mesa = mesa[['str_fundo','str_mesa','str_estrategia','codigo','mesas DOADO','mesas TOMADO']].fillna(0)"
   ]
  },
  {
   "cell_type": "code",
   "execution_count": null,
   "metadata": {},
   "outputs": [],
   "source": [
    "mesa.columns = ['fundo','mesa',\t'str_estrategia','codigo','mesas DOADO','mesas TOMADO']"
   ]
  },
  {
   "cell_type": "code",
   "execution_count": null,
   "metadata": {},
   "outputs": [],
   "source": []
  },
  {
   "cell_type": "markdown",
   "metadata": {},
   "source": [
    "# Internas sinteticas + mapa"
   ]
  },
  {
   "cell_type": "code",
   "execution_count": null,
   "metadata": {},
   "outputs": [],
   "source": [
    "# mapa = mapa.merge(k11,on=['fundo',\t'mesa',\t'str_estrategia','codigo'],how='outer').merge(mesa,on=['fundo',\t'mesa',\t'str_estrategia','codigo'],how='outer').fillna(0)"
   ]
  },
  {
   "cell_type": "code",
   "execution_count": null,
   "metadata": {},
   "outputs": [],
   "source": [
    "mapa = mapa.merge(mesa,on=['fundo',\t'mesa',\t'str_estrategia','codigo'],how='outer').fillna(0)"
   ]
  },
  {
   "cell_type": "markdown",
   "metadata": {},
   "source": [
    "# Vencimentos"
   ]
  },
  {
   "cell_type": "code",
   "execution_count": null,
   "metadata": {},
   "outputs": [],
   "source": [
    "\n",
    "vencimentos['vencimento'] = vencimentos['vencimento'].apply(lambda x: datetime.datetime.strptime(x,'%Y%m%d').date())"
   ]
  },
  {
   "cell_type": "code",
   "execution_count": null,
   "metadata": {},
   "outputs": [],
   "source": [
    "aux  = vencimentos.loc[(vencimentos['vencimento']>= dt) & (vencimentos['vencimento']< dt_next_5)]"
   ]
  },
  {
   "cell_type": "code",
   "execution_count": null,
   "metadata": {},
   "outputs": [],
   "source": [
    "aux = aux.groupby(['str_fundo','codigo','str_mesa','str_estrategia','vencimento']).agg({'dbl_quantidade':sum}).reset_index()"
   ]
  },
  {
   "cell_type": "code",
   "execution_count": null,
   "metadata": {},
   "outputs": [],
   "source": [
    "venc = pd.pivot_table(aux,index=['str_fundo','codigo','str_mesa','str_estrategia'],columns='vencimento',values='dbl_quantidade').reset_index().fillna(0)"
   ]
  },
  {
   "cell_type": "code",
   "execution_count": null,
   "metadata": {},
   "outputs": [],
   "source": [
    "venc.rename(columns={'str_fundo':'fundo','str_mesa':'mesa'},inplace=True)"
   ]
  },
  {
   "cell_type": "code",
   "execution_count": null,
   "metadata": {},
   "outputs": [],
   "source": [
    "mapa = mapa.merge(venc,on=['fundo','codigo','mesa','str_estrategia'],how='outer').fillna(0)"
   ]
  },
  {
   "cell_type": "code",
   "execution_count": null,
   "metadata": {},
   "outputs": [],
   "source": []
  },
  {
   "cell_type": "markdown",
   "metadata": {},
   "source": [
    "# Movimentações"
   ]
  },
  {
   "cell_type": "code",
   "execution_count": null,
   "metadata": {},
   "outputs": [],
   "source": []
  },
  {
   "cell_type": "code",
   "execution_count": null,
   "metadata": {},
   "outputs": [],
   "source": [
    "def get_equity_trades():\n",
    "    db_conn_test = psycopg2.connect(host=config.DB_TESTE_HOST, dbname=config.DB_TESTE_NAME , user=config.DB_TESTE_USER, password=config.DB_TESTE_PASS)    \n",
    "    query=f\"SELECT * FROM tbl_auxboletas1 where dte_data > '{dt_3.strftime('%Y-%m-%d')}' and ((str_mesa='Kapitalo 11.1' and str_mercado='Acao') or (str_mesa='Kapitalo 1.0' and  str_estrategia = 'Bolsa 2' and str_mercado='Acao') ) and str_fundo not in ('KAPITALO CLASS B', 'KAPITALO CLASS OMEGA')\" \n",
    "    try:\n",
    "        df =pd.read_sql(query,db_conn_test)\n",
    "    except:\n",
    "        pass\n",
    "    db_conn_test.close()\n",
    "\n",
    "    return df"
   ]
  },
  {
   "cell_type": "code",
   "execution_count": null,
   "metadata": {},
   "outputs": [],
   "source": [
    "trades = get_equity_trades()"
   ]
  },
  {
   "cell_type": "code",
   "execution_count": null,
   "metadata": {},
   "outputs": [],
   "source": [
    "trades  = trades.groupby(['str_fundo','str_serie','str_mesa','str_estrategia','dte_data']).agg({'dbl_lote':sum}).reset_index()"
   ]
  },
  {
   "cell_type": "code",
   "execution_count": null,
   "metadata": {},
   "outputs": [],
   "source": [
    "trades = pd.pivot_table(trades,index=['str_fundo','str_serie','str_mesa','str_estrategia'],columns='dte_data',values='dbl_lote').reset_index()\n"
   ]
  },
  {
   "cell_type": "code",
   "execution_count": null,
   "metadata": {},
   "outputs": [],
   "source": [
    "trades['str_serie'] = trades['str_serie'].apply(lambda x: x.replace(' BZ EQUITY',''))\n",
    "trades.rename(columns={\n",
    "    dt_2:'mov_0',\n",
    "    dt_1:'mov_1',\n",
    "    'str_fundo':'fundo',\n",
    "    'str_mesa':'mesa',\n",
    "    'str_serie':'codigo'\n",
    "    },inplace=True\n",
    ")"
   ]
  },
  {
   "cell_type": "code",
   "execution_count": null,
   "metadata": {},
   "outputs": [],
   "source": [
    "mapa = mapa.merge(trades,on=['fundo','codigo','mesa','str_estrategia'],how='outer').fillna(0)"
   ]
  },
  {
   "cell_type": "code",
   "execution_count": null,
   "metadata": {},
   "outputs": [],
   "source": [
    "dt"
   ]
  },
  {
   "cell_type": "code",
   "execution_count": null,
   "metadata": {},
   "outputs": [],
   "source": [
    "query_ibotz = f\" select str_fundo,str_mesa,str_estrategia,str_codigo,str_serie, str_numcontrato,sum(dbl_quantidade) as dbl_quantidade  from ibotz.tbl_boletasalugueis_ibotz where dte_data='{dt.strftime('%Y-%m-%d')}' and str_mesa in ('Kapitalo 11.1','Kapitalo 1.0') and str_mercado like '%Emprestimo RV%' group by str_fundo,str_mesa,str_estrategia,str_codigo,str_serie, str_numcontrato\"\n",
    "db_conn_test = psycopg2.connect(\n",
    "host=config.DB_TESTE_HOST,\n",
    "dbname=config.DB_TESTE_NAME,\n",
    "user=config.DB_TESTE_USER,\n",
    "password=config.DB_TESTE_PASS)\n",
    "\n",
    "btc_ibotz = pd.read_sql(query_ibotz,db_conn_test)\n",
    "db_conn_test.close()"
   ]
  },
  {
   "cell_type": "code",
   "execution_count": null,
   "metadata": {},
   "outputs": [],
   "source": [
    "btc_ibotz['codigo'] = btc_ibotz['str_serie'].apply(lambda x: x.split('-')[0])\n",
    "btc_ibotz['tipo'] = btc_ibotz['str_serie'].apply(lambda x: x.split('-')[1])\n",
    "btc_ibotz['modalidade'] = btc_ibotz['str_serie'].apply(lambda x: x.split('-')[-1])\n",
    "# btc_ibotz = btc_ibotz[btc_ibotz['modalidade']!='INTERNO']\n",
    "btc_ibotz = btc_ibotz.groupby(['str_fundo','str_mesa','str_estrategia','codigo','tipo']).agg({'dbl_quantidade':sum}).reset_index()\n"
   ]
  },
  {
   "cell_type": "code",
   "execution_count": null,
   "metadata": {},
   "outputs": [],
   "source": [
    "btc_ibotz"
   ]
  },
  {
   "cell_type": "code",
   "execution_count": null,
   "metadata": {},
   "outputs": [],
   "source": [
    "btc_ibotz = pd.pivot_table(btc_ibotz,columns='tipo',index=['str_fundo','str_mesa','codigo','str_estrategia'],values='dbl_quantidade').reset_index().fillna(0).rename(\n",
    "    columns=\n",
    "    {'str_fundo':'fundo',\n",
    "    'str_mesa':'mesa',\n",
    "    'D':'trade_doado',\n",
    "    'T':'trade_tomado'}\n",
    "    )"
   ]
  },
  {
   "cell_type": "code",
   "execution_count": null,
   "metadata": {},
   "outputs": [],
   "source": [
    "from BBI import get_bbi\n",
    "recalls =  get_bbi.req_mov_alugueis_solicitacao_liq(dt)"
   ]
  },
  {
   "cell_type": "code",
   "execution_count": null,
   "metadata": {},
   "outputs": [],
   "source": [
    "recalls[(recalls['codneg']=='ARZZ3')]"
   ]
  },
  {
   "cell_type": "markdown",
   "metadata": {},
   "source": []
  },
  {
   "cell_type": "code",
   "execution_count": null,
   "metadata": {},
   "outputs": [],
   "source": []
  },
  {
   "cell_type": "code",
   "execution_count": null,
   "metadata": {},
   "outputs": [],
   "source": [
    "recalls = recalls.rename(columns={'contrato':'str_numcontrato','Fundo_Kptl':'str_fundo','codneg':'codigo'}).merge(ctos_btc[['str_fundo','str_numcontrato','codigo','str_mesa','str_estrategia']],on=['str_fundo','str_numcontrato','codigo'],how='inner')"
   ]
  },
  {
   "cell_type": "code",
   "execution_count": null,
   "metadata": {},
   "outputs": [],
   "source": [
    "recalls['qtde'] = recalls.apply(lambda row: -abs(row['qtde']) if row['tipo']=='TOMADOR' else abs(row['qtde']),axis=1)\n"
   ]
  },
  {
   "cell_type": "code",
   "execution_count": null,
   "metadata": {},
   "outputs": [],
   "source": [
    "recalls['dvd'] = recalls['str_numcontrato'].apply(lambda x: recalls['str_numcontrato'].tolist().count(x))"
   ]
  },
  {
   "cell_type": "code",
   "execution_count": null,
   "metadata": {},
   "outputs": [],
   "source": []
  },
  {
   "cell_type": "code",
   "execution_count": null,
   "metadata": {},
   "outputs": [],
   "source": [
    "recalls = pd.pivot_table(recalls,columns='datalimite',index=['str_fundo','codigo','str_mesa','str_estrategia','dvd'],values='qtde').reset_index().fillna(0)"
   ]
  },
  {
   "cell_type": "code",
   "execution_count": null,
   "metadata": {},
   "outputs": [],
   "source": [
    "recalls.columns[-1].to_pydatetime().date()"
   ]
  },
  {
   "cell_type": "code",
   "execution_count": null,
   "metadata": {},
   "outputs": [],
   "source": [
    "recalls  = recalls.rename(columns = {pd.Timestamp(dt_next_3):'PendRecallD3',pd.Timestamp(dt_next_2):'PendRecallD2',pd.Timestamp(dt_next_1):'PendRecallD1'})"
   ]
  },
  {
   "cell_type": "code",
   "execution_count": null,
   "metadata": {},
   "outputs": [],
   "source": [
    "import math\n",
    "def round_up(n, decimals=0):\n",
    "    multiplier = 10 ** decimals\n",
    "    return math.ceil(n * multiplier) / multiplier"
   ]
  },
  {
   "cell_type": "code",
   "execution_count": null,
   "metadata": {},
   "outputs": [],
   "source": [
    "recalls"
   ]
  },
  {
   "cell_type": "code",
   "execution_count": null,
   "metadata": {},
   "outputs": [],
   "source": [
    "for i in range(1,4):\n",
    "    if f\"PendRecallD{i}\" not in recalls.columns:\n",
    "        recalls[f\"PendRecallD{i}\"] = 0\n",
    "\n",
    "\n",
    "\n"
   ]
  },
  {
   "cell_type": "code",
   "execution_count": null,
   "metadata": {},
   "outputs": [],
   "source": [
    "\n",
    "recalls['PendRecallD1'] = recalls.apply( lambda row: round_up(float(row['PendRecallD1']/row['dvd'])),axis=1 )\n",
    "recalls['PendRecallD2'] = recalls.apply( lambda row: round_up(float(row['PendRecallD2']/row['dvd'])),axis=1 )\n",
    "recalls['PendRecallD3'] = recalls.apply( lambda row: round_up(float(row['PendRecallD3']/row['dvd'])),axis=1 )"
   ]
  },
  {
   "cell_type": "code",
   "execution_count": null,
   "metadata": {},
   "outputs": [],
   "source": [
    "mapa = mapa.merge(recalls.rename(columns = {'str_fundo':'fundo','str_mesa':'mesa'}),on=['fundo','mesa', 'str_estrategia','codigo'],how='left').fillna(0)"
   ]
  },
  {
   "cell_type": "code",
   "execution_count": null,
   "metadata": {},
   "outputs": [],
   "source": [
    "mapa = mapa.merge(btc_ibotz,on=['fundo','mesa', 'str_estrategia','codigo'],how='outer').fillna(0)"
   ]
  },
  {
   "cell_type": "code",
   "execution_count": null,
   "metadata": {},
   "outputs": [],
   "source": []
  },
  {
   "cell_type": "code",
   "execution_count": null,
   "metadata": {},
   "outputs": [],
   "source": [
    "# mapa[\"PendRecallD1\"] = 0\n",
    "# mapa[\"PendRecallD2\"] = 0\n",
    "# mapa[\"PendRecallD3\"] = 0\n",
    "mapa['mov_2'] = 0"
   ]
  },
  {
   "cell_type": "code",
   "execution_count": null,
   "metadata": {},
   "outputs": [],
   "source": [
    "if not 'trade_doado' in mapa.columns:\n",
    "    mapa['trade_doado'] = 0 \n",
    "if not 'trade_tomado' in mapa.columns:\n",
    "    mapa['trade_tomado'] = 0\n",
    "\n",
    "\n",
    "if not 'interna DOADO' in mapa.columns:\n",
    "    mapa['interna DOADO'] = 0 \n",
    "if not 'interna TOMADO' in mapa.columns:\n",
    "    mapa['interna TOMADO'] = 0"
   ]
  },
  {
   "cell_type": "code",
   "execution_count": null,
   "metadata": {},
   "outputs": [],
   "source": [
    "\n",
    "mapa[\"pos_doada\"] = mapa[\"DOADO\"] + mapa[\"trade_doado\"] + mapa['interna DOADO'] +  mapa['mesas DOADO']\n",
    "mapa[\"pos_tomada\"] = mapa[\"TOMADO\"] + mapa[\"trade_tomado\"] + mapa['interna TOMADO'] + mapa['mesas TOMADO']\n",
    "mapa[\"net_alugado\"] = mapa[\"pos_doada\"] + mapa[\"pos_tomada\"]\n",
    "mapa[\"custodia_aux\"] = mapa[\"position\"] + mapa[\"net_alugado\"] - mapa[\"mov_0\"] - mapa[\"mov_1\"]\n",
    "\n",
    "# mapa['custodia_janela'] = Saldo doador - Mov_0 (dia atual)\n",
    "try:\n",
    "    mapa[\"custodia_0\"] = mapa[\"custodia_aux\"] - mapa[vcto_0] + mapa[\"mov_0\"] \n",
    "except:\n",
    "    mapa[\"custodia_0\"] = mapa[\"custodia_aux\"] + mapa[\"mov_0\"] \n",
    "mapa[\"custodia_0\"].fillna(0, inplace=True)\n",
    "\n",
    "try:\n",
    "    mapa[\"custodia_1\"] = mapa[\"custodia_0\"] + mapa[\"mov_1\"] - mapa[vcto_1] + mapa[\"PendRecallD1\"]\n",
    "except:\n",
    "    mapa[\"custodia_1\"] = mapa[\"custodia_0\"] + mapa[\"mov_1\"] + mapa[\"PendRecallD1\"]\n",
    "    \n",
    "try:\n",
    "    mapa[\"custodia_2\"] = mapa[\"custodia_1\"] - mapa[vcto_2] + mapa[\"PendRecallD2\"] + mapa[\"mov_2\"]\n",
    "except:\n",
    "    mapa[\"custodia_2\"] = mapa[\"custodia_1\"] + mapa[\"PendRecallD2\"] + mapa[\"mov_2\"]\n",
    "    \n",
    "mapa[\"custodia_3\"] = mapa[\"custodia_2\"] - mapa[vcto_3] + mapa[\"PendRecallD3\"]\n",
    "\n",
    "mapa[\"to_borrow_0\"] = np.minimum(0, mapa[\"custodia_0\"])\n",
    "mapa[\"to_borrow_0\"].fillna(0, inplace=True)\n",
    "mapa[\"to_borrow_1\"] = np.minimum(0, mapa[\"custodia_1\"] - mapa[\"to_borrow_0\"])\n",
    "mapa[\"to_borrow_1\"].fillna(0, inplace=True)\n",
    "mapa[\"to_borrow_2\"] = np.minimum(\n",
    "    0, mapa[\"custodia_2\"] - mapa[\"to_borrow_0\"] - mapa[\"to_borrow_1\"]\n",
    ")\n",
    "mapa[\"to_borrow_2\"].fillna(0, inplace=True)\n",
    "mapa[\"to_borrow_3\"] = np.minimum(\n",
    "    0, mapa[\"custodia_3\"] - mapa[\"to_borrow_0\"] - mapa[\"to_borrow_1\"] - mapa[\"to_borrow_2\"]\n",
    ")\n",
    "\n",
    "mapa[\"to_borrow_3\"].fillna(0, inplace=True)\n",
    "\n"
   ]
  },
  {
   "cell_type": "code",
   "execution_count": null,
   "metadata": {},
   "outputs": [],
   "source": [
    "mapa[\"custodia_exaluguel\"] = (\n",
    "    mapa[\"custodia_aux\"]\n",
    "    - mapa[\"net_alugado\"]\n",
    "    + np.minimum.reduce(\n",
    "        [\n",
    "            mapa[\"mov_0\"],\n",
    "            mapa[\"mov_0\"] + mapa[\"mov_1\"],\n",
    "            mapa[\"mov_0\"] + mapa[\"mov_1\"] + mapa[\"mov_2\"],\n",
    "        ]\n",
    "    )\n",
    ")\n",
    "mapa[\"devol_tomador_of\"] = np.minimum(\n",
    "    -np.minimum(mapa[\"custodia_exaluguel\"], 0) - mapa[\"pos_tomada\"], 0\n",
    ")\n",
    "\n",
    "mapa[\"devol_tomador\"] = np.minimum(\n",
    "    -np.minimum(mapa[\"custodia_aux\"], 0) - mapa[\"pos_tomada\"], 0\n",
    ")\n",
    "mapa.loc[mapa['to_borrow_0']<0,'devol_tomador'] = 0\n",
    "\n",
    "mapa[\"devol_doador\"] = np.maximum(\n",
    "    -np.maximum(mapa[\"custodia_exaluguel\"], 0)\n",
    "    - mapa[\"pos_doada\"]\n",
    "    - mapa[\"PendRecallD1\"]\n",
    "    - mapa[\"PendRecallD2\"]\n",
    "    - mapa[\"PendRecallD3\"],\n",
    "    0,\n",
    ")\n",
    "mapa[\"devol_tomador\"].fillna(0, inplace=True)\n",
    "mapa[\"devol_doador\"].fillna(0, inplace=True)\n",
    "\n"
   ]
  },
  {
   "cell_type": "code",
   "execution_count": null,
   "metadata": {},
   "outputs": [],
   "source": [
    "mapa[\"to_lend\"] = mapa.apply(\n",
    "    lambda row: 0\n",
    "    if (row[\"custodia_exaluguel\"] + row[\"pos_doada\"] < 0)\n",
    "    else row[\"custodia_exaluguel\"] + row[\"pos_doada\"]\n",
    "    if row[\"custodia_exaluguel\"] > 0\n",
    "    else 0,\n",
    "    axis=1,\n",
    ")\n"
   ]
  },
  {
   "cell_type": "code",
   "execution_count": null,
   "metadata": {},
   "outputs": [],
   "source": [
    "mapa"
   ]
  },
  {
   "cell_type": "code",
   "execution_count": null,
   "metadata": {},
   "outputs": [],
   "source": []
  },
  {
   "cell_type": "markdown",
   "metadata": {},
   "source": [
    "# Ajuste de contratos"
   ]
  },
  {
   "cell_type": "code",
   "execution_count": null,
   "metadata": {},
   "outputs": [],
   "source": [
    "ind_devol =mapa[mapa['devol_tomador']!=0][['fundo','mesa','str_estrategia','codigo','custodia_0','devol_tomador']]\n",
    "ajuste = mapa[mapa['to_borrow_0']!=0][['fundo','mesa','str_estrategia','codigo','to_borrow_0']]\n",
    "sinal_ajuste = ajuste[['fundo','codigo','to_borrow_0']]\n",
    "ind_devol['devol_tomador'] = -ind_devol['devol_tomador']\n",
    "ind_devol = ind_devol.merge(sinal_ajuste,on=['fundo','codigo'],how='inner').drop_duplicates()\n",
    "\n",
    "ind_devol['to_borrow_0'] = -ind_devol['to_borrow_0']\n",
    "ind_devol = ind_devol.groupby(['fundo', 'mesa', 'str_estrategia', 'codigo', 'custodia_0','devol_tomador']).agg({'to_borrow_0':sum}).reset_index()\n",
    "ind_devol['indicativo devol'] = ind_devol.apply(lambda row: min(row['to_borrow_0'],max(row['custodia_0'],row['devol_tomador'])),axis=1)\n",
    "\n",
    "ind_devol = ind_devol.drop_duplicates()\n",
    "ctos_btc.rename(columns={'str_fundo':'fundo','str_mesa':'mesa'},inplace=True)\n",
    "devol = ctos_btc.merge(ind_devol, on=[\"fundo\",'mesa','str_estrategia',\"codigo\"], how=\"inner\")\n",
    "devol = devol.drop_duplicates()\n",
    "devol = devol.loc[(devol['tipo']=='T') & (devol['dbl_quantidade']>0)]\n",
    "\n",
    "devol = devol.sort_values('codigo')\n",
    "devol['Devolucao']=0\n",
    "ind_devol = ind_devol.groupby(['fundo', 'mesa', 'str_estrategia', 'codigo']).agg({'indicativo devol':sum}).reset_index()\n"
   ]
  },
  {
   "cell_type": "code",
   "execution_count": null,
   "metadata": {},
   "outputs": [],
   "source": [
    "devol = devol[['dte_data', 'fundo', 'str_mercado', 'str_codigo', 'str_serie', 'mesa',\n",
    "       'str_estrategia', 'str_numcontrato', 'dbl_quantidade', 'preco',\n",
    "       'codigo','Devolucao']].drop_duplicates()"
   ]
  },
  {
   "cell_type": "code",
   "execution_count": null,
   "metadata": {},
   "outputs": [],
   "source": [
    "for i, row in devol.iterrows():\n",
    "        saldo = ind_devol.loc[(ind_devol['fundo']==row['fundo'])&(ind_devol['codigo']==row['codigo'])&(ind_devol['mesa']==row['mesa'])&(ind_devol['str_estrategia']==row['str_estrategia']),'indicativo devol'].sum()\n",
    "        devol.loc[(devol['fundo']==row['fundo'])&(devol['codigo']==row['codigo'])&(devol['mesa']==row['mesa'])& (devol['str_estrategia']==row['str_estrategia'] )& (devol['str_numcontrato']==row['str_numcontrato']),'Devolucao'] = min(row['dbl_quantidade'],saldo)\n",
    "        ind_devol.loc[(ind_devol['fundo']==row['fundo'])&(ind_devol['codigo']==row['codigo'])&(ind_devol['mesa']==row['mesa'])&(ind_devol['str_estrategia']==row['str_estrategia']),'indicativo devol'] = round( saldo -min(row['dbl_quantidade'],saldo) ,2)"
   ]
  },
  {
   "cell_type": "code",
   "execution_count": null,
   "metadata": {},
   "outputs": [],
   "source": [
    "# mapa."
   ]
  },
  {
   "cell_type": "code",
   "execution_count": null,
   "metadata": {},
   "outputs": [],
   "source": [
    "rebal_tomadores = devol[devol['Devolucao']!=0]"
   ]
  },
  {
   "cell_type": "code",
   "execution_count": null,
   "metadata": {},
   "outputs": [],
   "source": [
    "## Preciso realizar com contratos doadores\n",
    "ind_devol[ind_devol['indicativo devol']!=0]"
   ]
  },
  {
   "cell_type": "code",
   "execution_count": null,
   "metadata": {},
   "outputs": [],
   "source": [
    "alloc_tomadores = rebal_tomadores"
   ]
  },
  {
   "cell_type": "code",
   "execution_count": null,
   "metadata": {},
   "outputs": [],
   "source": [
    "# alloc_tomadores['dbl_quantidade'] = alloc_tomadores['Devolucao'] "
   ]
  },
  {
   "cell_type": "code",
   "execution_count": null,
   "metadata": {},
   "outputs": [],
   "source": [
    "filt_map = mapa[mapa['custodia_0']>0][['fundo','mesa','str_estrategia','codigo']]"
   ]
  },
  {
   "cell_type": "code",
   "execution_count": null,
   "metadata": {},
   "outputs": [],
   "source": []
  },
  {
   "cell_type": "code",
   "execution_count": null,
   "metadata": {},
   "outputs": [],
   "source": [
    "alloc_tomadores = alloc_tomadores.merge(filt_map,on=['fundo','mesa','str_estrategia','codigo'],how='inner')"
   ]
  },
  {
   "cell_type": "code",
   "execution_count": null,
   "metadata": {},
   "outputs": [],
   "source": [
    "alloc_tomadores.rename(columns={'Devolucao':'Alocacao'},inplace= True)"
   ]
  },
  {
   "cell_type": "code",
   "execution_count": null,
   "metadata": {},
   "outputs": [],
   "source": [
    "alloc_tomadores['estrategia target'] = 0"
   ]
  },
  {
   "cell_type": "code",
   "execution_count": null,
   "metadata": {},
   "outputs": [],
   "source": [
    "map_ajuste = ajuste"
   ]
  },
  {
   "cell_type": "code",
   "execution_count": null,
   "metadata": {},
   "outputs": [],
   "source": [
    "map_ajuste['to_borrow_0'] = -map_ajuste['to_borrow_0']"
   ]
  },
  {
   "cell_type": "code",
   "execution_count": null,
   "metadata": {},
   "outputs": [],
   "source": [
    "map_ajuste"
   ]
  },
  {
   "cell_type": "code",
   "execution_count": null,
   "metadata": {},
   "outputs": [],
   "source": [
    "def qtd_dist(row):\n",
    "\n",
    "    if abs(row)>1000000:\n",
    "        if row>0:\n",
    "            return [100000 for i in range(abs(int(row/100000)))]\n",
    "        else:\n",
    "            return [-100000 for i in range(abs(int(row/100000)))]\n",
    "    \n",
    "    if abs(row)>100000:\n",
    "        if row>0:\n",
    "            return [10000 for i in range(abs(int(row/10000)))]\n",
    "        else:\n",
    "            return [-10000 for i in range(abs(int(row/10000)))]\n",
    "    if abs(row)>10000:\n",
    "        if row>0:\n",
    "            return [1000 for i in range(abs(int(row/1000)))]\n",
    "        else:\n",
    "            return [-1000 for i in range(abs(int(row/1000)))]\n",
    "    elif abs(row)>1000:\n",
    "        if row>0:\n",
    "            return [100 for i in range(abs(int(row/100)))]\n",
    "        else:\n",
    "            return [-100 for i in range(abs(int(row/100)))]\n",
    "    else:\n",
    "        if row>0:\n",
    "            return [1 for i in range(abs(int(row)))]\n",
    "        else:\n",
    "            return [-1 for i in range(abs(int(row)))]\n",
    "\n"
   ]
  },
  {
   "cell_type": "code",
   "execution_count": null,
   "metadata": {},
   "outputs": [],
   "source": [
    "def ult_dist(row):\n",
    "    if row>0:\n",
    "        return [1 for i in range(abs(int(row)))]\n",
    "    else:\n",
    "        return [-1 for i in range(abs(int(row)))]"
   ]
  },
  {
   "cell_type": "code",
   "execution_count": null,
   "metadata": {},
   "outputs": [],
   "source": [
    "def dist_ctos(alloc_tomadores):\n",
    "       \n",
    "\n",
    "       alloc_tomadores[\"quebra\"] = alloc_tomadores[\"dbl_quantidade\"].apply(lambda x: qtd_dist(x))\n",
    "       alloc_tomadores = alloc_tomadores.explode(\"quebra\")\n",
    "       # print(alloc_tomadores.columns)\n",
    "       dif = alloc_tomadores.groupby(['dte_data', 'fundo', 'str_mercado', 'str_codigo', 'str_serie', 'mesa',\n",
    "              'str_estrategia', 'str_numcontrato', 'dbl_quantidade', 'preco',\n",
    "              'codigo', 'Alocacao', 'estrategia target']).agg({'quebra':sum}).reset_index().drop_duplicates()\n",
    "       dif['diff'] = dif['dbl_quantidade'] - dif['quebra']\n",
    "       dif = dif[dif['diff']!=0]\n",
    "       dif['dbl_quantidade'] = dif['diff']\n",
    "       dif[\"quebra\"] = dif[\"dbl_quantidade\"].apply(lambda x: ult_dist(x))\n",
    "       dif = dif.explode(\"quebra\")\n",
    "       alloc_tomadores = pd.concat([alloc_tomadores,dif])\n",
    "       alloc_tomadores['aux'] = alloc_tomadores['dbl_quantidade'] \n",
    "       alloc_tomadores['dbl_quantidade'] = alloc_tomadores['quebra']\n",
    "\n",
    "       return alloc_tomadores"
   ]
  },
  {
   "cell_type": "code",
   "execution_count": null,
   "metadata": {},
   "outputs": [],
   "source": [
    "alloc_tomadores = dist_ctos(alloc_tomadores=alloc_tomadores)"
   ]
  },
  {
   "cell_type": "code",
   "execution_count": null,
   "metadata": {},
   "outputs": [],
   "source": [
    "alloc_tomadores = alloc_tomadores.sort_values(by=['quebra'], ascending=False)"
   ]
  },
  {
   "cell_type": "code",
   "execution_count": null,
   "metadata": {},
   "outputs": [],
   "source": [
    "map_ajuste"
   ]
  },
  {
   "cell_type": "code",
   "execution_count": null,
   "metadata": {},
   "outputs": [],
   "source": [
    "alloc_tomadores.index = [x+1 for x in range(alloc_tomadores.shape[0])]\n",
    "map_ajuste.index = [x+1 for x in range(map_ajuste.shape[0])]"
   ]
  },
  {
   "cell_type": "code",
   "execution_count": null,
   "metadata": {},
   "outputs": [],
   "source": []
  },
  {
   "cell_type": "code",
   "execution_count": null,
   "metadata": {},
   "outputs": [],
   "source": [
    "alloc_tomadores['volta'] = 0\n",
    "alloc_tomadores['estrategia target'] = 0\n",
    "alloc_tomadores['mesa target'] = 0\n",
    "from tqdm import tqdm\n",
    "aux = pd.DataFrame()\n",
    "ativos_concluidos = []\n",
    "with tqdm(total=map_ajuste.shape[0]) as pbar:\n",
    "    for i, row in (map_ajuste.iterrows()):\n",
    "        pbar.update(1)\n",
    "        saldo = row['to_borrow_0']\n",
    "        aux = alloc_tomadores[alloc_tomadores['codigo']==row['codigo']]\n",
    "        \n",
    "        for x, x_row in aux.iterrows():\n",
    "            if int(saldo) ==0:\n",
    "                break\n",
    "            if (x_row['codigo']==row['codigo']) & (x_row['fundo']==row['fundo']):\n",
    "                if (alloc_tomadores.loc[x,'estrategia target']==0):\n",
    "                    total = min(saldo,x_row['dbl_quantidade'])\n",
    "                    alloc_tomadores.loc[x,'volta'] = total\n",
    "                    alloc_tomadores.loc[x,'mesa target'] = row['mesa']\n",
    "                    alloc_tomadores.loc[x,'estrategia target'] = row['str_estrategia']\n",
    "                    saldo = saldo - total\n",
    "                    map_ajuste.loc[i,'to_borrow_0']  = saldo\n",
    "            "
   ]
  },
  {
   "cell_type": "code",
   "execution_count": null,
   "metadata": {},
   "outputs": [],
   "source": [
    "map_ajuste"
   ]
  },
  {
   "cell_type": "code",
   "execution_count": null,
   "metadata": {},
   "outputs": [],
   "source": [
    "alloc_tomadores['saldo'] = alloc_tomadores['quebra'] - alloc_tomadores['volta']"
   ]
  },
  {
   "cell_type": "code",
   "execution_count": null,
   "metadata": {},
   "outputs": [],
   "source": [
    "saldo_alloc_tomadores = alloc_tomadores[alloc_tomadores['saldo']!=0]"
   ]
  },
  {
   "cell_type": "code",
   "execution_count": null,
   "metadata": {},
   "outputs": [],
   "source": [
    "saldo_alloc_tomadores['dbl_quantidade'] = saldo_alloc_tomadores['saldo']"
   ]
  },
  {
   "cell_type": "code",
   "execution_count": null,
   "metadata": {},
   "outputs": [],
   "source": [
    "saldo_alloc_tomadores[\"quebra\"] = saldo_alloc_tomadores[\"dbl_quantidade\"].apply(lambda x: ult_dist(x))\n",
    "saldo_alloc_tomadores = saldo_alloc_tomadores.explode(\"quebra\")"
   ]
  },
  {
   "cell_type": "code",
   "execution_count": null,
   "metadata": {},
   "outputs": [],
   "source": [
    "saldo_alloc_tomadores['dbl_quantidade'] = saldo_alloc_tomadores['quebra']"
   ]
  },
  {
   "cell_type": "code",
   "execution_count": null,
   "metadata": {},
   "outputs": [],
   "source": [
    "map_ajuste = map_ajuste[map_ajuste['to_borrow_0']!=0]"
   ]
  },
  {
   "cell_type": "code",
   "execution_count": null,
   "metadata": {},
   "outputs": [],
   "source": [
    "saldo_alloc_tomadores.index = [x+1 for x in range(saldo_alloc_tomadores.shape[0])]\n",
    "map_ajuste.index = [x+1 for x in range(map_ajuste.shape[0])]"
   ]
  },
  {
   "cell_type": "code",
   "execution_count": null,
   "metadata": {},
   "outputs": [],
   "source": [
    "saldo_alloc_tomadores['volta'] = 0\n",
    "saldo_alloc_tomadores['estrategia target'] = 0\n",
    "saldo_alloc_tomadores['mesa target'] = 0\n",
    "from tqdm import tqdm\n",
    "aux = pd.DataFrame()\n",
    "ativos_concluidos = []\n",
    "with tqdm(total=map_ajuste.shape[0]) as pbar:\n",
    "    for i, row in (map_ajuste.iterrows()):\n",
    "        pbar.update(1)\n",
    "        saldo = row['to_borrow_0']\n",
    "        aux = saldo_alloc_tomadores[saldo_alloc_tomadores['codigo']==row['codigo']]\n",
    "        total = 0\n",
    "        for x, x_row in aux.iterrows():\n",
    "            if int(saldo) ==0:\n",
    "                break\n",
    "            if (x_row['codigo']==row['codigo']) & (x_row['fundo']==row['fundo']):\n",
    "                if (saldo_alloc_tomadores.loc[x,'estrategia target']==0):\n",
    "                    # if ((mapa.loc[(mapa['fundo']==row['fundo'])&(mapa['codigo']==row['codigo'])&(mapa['str_estrategia']==row['str_estrategia'])&(mapa['mesa']==row['mesa']),'custodia_0'].item()) - total ) > 0 :\n",
    "                        # total = min(saldo,x_row['dbl_quantidade']) + total\n",
    "                    saldo_alloc_tomadores.loc[x,'volta'] = min(saldo,x_row['dbl_quantidade'])\n",
    "                    saldo_alloc_tomadores.loc[x,'mesa target'] = row['mesa']\n",
    "                    saldo_alloc_tomadores.loc[x,'estrategia target'] = row['str_estrategia']\n",
    "                    saldo = saldo - min(saldo,x_row['dbl_quantidade'])\n",
    "                    map_ajuste.loc[i,'to_borrow_0']  = saldo\n",
    "                    # else:\n",
    "                    #     break"
   ]
  },
  {
   "cell_type": "code",
   "execution_count": null,
   "metadata": {},
   "outputs": [],
   "source": [
    "# saldo_tomadores = alloc_tomadores[alloc_tomadores['estrategia target']==0]\n",
    "# alloc_tomadores =  alloc_tomadores[alloc_tomadores['estrategia target']!=0]\n",
    "# espelho= alloc_tomadores.groupby(['fundo','codigo','estrategia target']).agg({'volta':sum}).reset_index()"
   ]
  },
  {
   "cell_type": "code",
   "execution_count": null,
   "metadata": {},
   "outputs": [],
   "source": [
    "map_ajuste = map_ajuste[map_ajuste['to_borrow_0']!=0] "
   ]
  },
  {
   "cell_type": "code",
   "execution_count": null,
   "metadata": {},
   "outputs": [],
   "source": [
    "map_ajuste"
   ]
  },
  {
   "cell_type": "markdown",
   "metadata": {},
   "source": [
    "## Rebalanceamento com devolução Doadora"
   ]
  },
  {
   "cell_type": "code",
   "execution_count": null,
   "metadata": {},
   "outputs": [],
   "source": [
    "def dist_ctos(alloc_tomadores):\n",
    "       \n",
    "\n",
    "       alloc_tomadores[\"quebra\"] = alloc_tomadores[\"dbl_quantidade\"].apply(lambda x: qtd_dist(x))\n",
    "       alloc_tomadores = alloc_tomadores.explode(\"quebra\")\n",
    "       dif = alloc_tomadores.groupby(['dte_data', 'fundo', 'str_mercado', 'str_codigo', 'str_serie', 'mesa',\n",
    "              'str_estrategia', 'str_numcontrato', 'dbl_quantidade', 'preco',\n",
    "              'codigo', 'Alocacao', 'estrategia target']).agg({'quebra':sum}).reset_index().drop_duplicates()\n",
    "       dif['diff'] = dif['dbl_quantidade'] - dif['quebra']\n",
    "       dif = dif[dif['diff']!=0]\n",
    "       dif['dbl_quantidade'] = dif['diff']\n",
    "       dif[\"quebra\"] = dif[\"dbl_quantidade\"].apply(lambda x: ult_dist(x))\n",
    "       dif = dif.explode(\"quebra\")\n",
    "       alloc_tomadores = pd.concat([alloc_tomadores,dif])\n",
    "       alloc_tomadores['aux'] = alloc_tomadores['dbl_quantidade'] \n",
    "       alloc_tomadores['dbl_quantidade'] = alloc_tomadores['quebra']\n",
    "\n",
    "       return alloc_tomadores"
   ]
  },
  {
   "cell_type": "code",
   "execution_count": null,
   "metadata": {},
   "outputs": [],
   "source": [
    "ctos_btc_d = ctos_btc[ctos_btc['tipo']=='D']\n",
    "devol_d = ctos_btc_d.merge(map_ajuste, on=[\"fundo\",'mesa','str_estrategia',\"codigo\"], how=\"inner\")\n",
    "devol_d['to_borrow_0'] = devol_d['to_borrow_0'].fillna(0)\n",
    "devol_d = devol_d[devol_d['to_borrow_0']!=0]\n",
    "devol_d['dbl_quantidade'] = abs(devol_d['dbl_quantidade'])\n",
    "devol_d['Alocacao'] = 0\n",
    "devol_d['estrategia target'] = 0\n",
    "devol_d = dist_ctos(alloc_tomadores=devol_d)\n",
    "devol_d.index = [x+1 for x in range(devol_d.shape[0])]\n",
    "map_ajuste.index = [x+1 for x in range(map_ajuste.shape[0])]"
   ]
  },
  {
   "cell_type": "code",
   "execution_count": null,
   "metadata": {},
   "outputs": [],
   "source": [
    "devol_d['volta'] = 0\n",
    "\n",
    "devol_d['estrategia target'] = 0\n",
    "\n",
    "devol_d['mesa target'] = 0\n",
    "\n",
    "\n",
    "with tqdm(total=map_ajuste.shape[0]) as pbar:\n",
    "    for i, row in (map_ajuste.iterrows()):\n",
    "        pbar.update(1)\n",
    "        saldo = row['to_borrow_0']\n",
    "        for x, x_row in devol_d.iterrows():\n",
    "            if int(saldo) ==0:\n",
    "                break\n",
    "            if (x_row['codigo']==row['codigo']) & (x_row['fundo']==row['fundo']):\n",
    "                if (devol_d.loc[x,'estrategia target']==0):\n",
    "                    devol_d.loc[x,'volta'] = min(saldo,x_row['dbl_quantidade'])\n",
    "                    devol_d.loc[x,'mesa target'] = row['mesa']\n",
    "                    devol_d.loc[x,'estrategia target'] = row['str_estrategia']\n",
    "                    saldo = saldo - min(saldo,x_row['dbl_quantidade'])\n",
    "                    map_ajuste.loc[i,'to_borrow_0']  = saldo\n",
    "            "
   ]
  },
  {
   "cell_type": "code",
   "execution_count": null,
   "metadata": {},
   "outputs": [],
   "source": [
    "devol_d"
   ]
  },
  {
   "cell_type": "code",
   "execution_count": null,
   "metadata": {},
   "outputs": [],
   "source": [
    "map_ajuste[map_ajuste['to_borrow_0']!=0]"
   ]
  },
  {
   "cell_type": "code",
   "execution_count": null,
   "metadata": {},
   "outputs": [],
   "source": [
    "mapa"
   ]
  },
  {
   "cell_type": "markdown",
   "metadata": {},
   "source": [
    "# Organizando Boletas"
   ]
  },
  {
   "cell_type": "code",
   "execution_count": null,
   "metadata": {},
   "outputs": [],
   "source": [
    "a = alloc_tomadores.groupby(\n",
    "    [\n",
    "    'dte_data', 'fundo', 'str_mercado', 'str_codigo', 'str_serie', 'mesa',\n",
    "       'str_estrategia', 'str_numcontrato',\n",
    "       'codigo','estrategia target', 'mesa target','Alocacao',\n",
    "    ]\n",
    ").agg({'volta':sum}).reset_index()\n",
    "\n"
   ]
  },
  {
   "cell_type": "code",
   "execution_count": null,
   "metadata": {},
   "outputs": [],
   "source": [
    "saldo_alloc_tomadores = saldo_alloc_tomadores.groupby(\n",
    "    [\n",
    "    'dte_data', 'fundo', 'str_mercado', 'str_codigo', 'str_serie', 'mesa',\n",
    "       'str_estrategia', 'str_numcontrato', 'dbl_quantidade',\n",
    "       'codigo','estrategia target', 'mesa target','Alocacao',\n",
    "       \n",
    "    ]\n",
    ").agg({'volta':sum}).reset_index()\n"
   ]
  },
  {
   "cell_type": "code",
   "execution_count": null,
   "metadata": {},
   "outputs": [],
   "source": [
    "saldo_alloc_tomadores = saldo_alloc_tomadores[saldo_alloc_tomadores['estrategia target']!=0]"
   ]
  },
  {
   "cell_type": "code",
   "execution_count": null,
   "metadata": {},
   "outputs": [],
   "source": [
    "devol = devol_d.groupby(\n",
    "    [\n",
    "    'dte_data', 'fundo', 'str_mercado', 'str_codigo', 'str_serie', 'mesa',\n",
    "       'str_estrategia', 'str_numcontrato', 'dbl_quantidade',\n",
    "       'codigo','estrategia target', 'mesa target','Alocacao',\n",
    "       \n",
    "    ]\n",
    ").agg({'volta':sum}).reset_index()"
   ]
  },
  {
   "cell_type": "code",
   "execution_count": null,
   "metadata": {},
   "outputs": [],
   "source": [
    "devol = devol[devol['estrategia target']!=0]"
   ]
  },
  {
   "cell_type": "code",
   "execution_count": null,
   "metadata": {},
   "outputs": [],
   "source": [
    "mapa"
   ]
  },
  {
   "cell_type": "markdown",
   "metadata": {},
   "source": []
  },
  {
   "cell_type": "markdown",
   "metadata": {},
   "source": [
    "# Montando boletas"
   ]
  },
  {
   "cell_type": "code",
   "execution_count": null,
   "metadata": {},
   "outputs": [],
   "source": [
    "tomador = pd.concat([a,saldo_alloc_tomadores])"
   ]
  },
  {
   "cell_type": "code",
   "execution_count": null,
   "metadata": {},
   "outputs": [],
   "source": [
    "tomador_g = tomador[['fundo','mesa','str_estrategia','mesa target','estrategia target','codigo','str_serie','volta','str_numcontrato']]"
   ]
  },
  {
   "cell_type": "code",
   "execution_count": null,
   "metadata": {},
   "outputs": [],
   "source": [
    "tomador_g = tomador_g[tomador_g['volta']!=0]\n",
    "tomador_in = tomador_g[['fundo','mesa target','estrategia target','codigo','str_serie','volta','str_numcontrato']]\n",
    "tomador_out = tomador_g[['fundo','mesa','str_estrategia','codigo','str_serie','volta','str_numcontrato']]\n",
    "tomador_out['dbl_quantidade'] = -abs(tomador_out['volta'])\n",
    "tomador_in['dbl_quantidade'] = abs(tomador_in['volta'])\n",
    "\n",
    "tomador_in = tomador_in[['fundo','mesa target','estrategia target','codigo','str_serie','dbl_quantidade','str_numcontrato']]\n",
    "tomador_out = tomador_out[['fundo','mesa','str_estrategia','codigo','str_serie','dbl_quantidade','str_numcontrato']]\n"
   ]
  },
  {
   "cell_type": "code",
   "execution_count": null,
   "metadata": {},
   "outputs": [],
   "source": [
    "tomador_in"
   ]
  },
  {
   "cell_type": "code",
   "execution_count": null,
   "metadata": {},
   "outputs": [],
   "source": [
    "columns = [\n",
    "    'str_fundo',\n",
    "    'str_mesa',\n",
    "    'str_estrategia',\n",
    "    'str_codigo', \n",
    "    'str_serie',\n",
    "    'dbl_quantidade',\n",
    "    'str_numcontrato'\n",
    "]"
   ]
  },
  {
   "cell_type": "code",
   "execution_count": null,
   "metadata": {},
   "outputs": [],
   "source": [
    "tomador_in.columns = columns\n",
    "tomador_out.columns = columns\n",
    "\n"
   ]
  },
  {
   "cell_type": "code",
   "execution_count": null,
   "metadata": {},
   "outputs": [],
   "source": [
    "tomador_geral = pd.concat([tomador_in,tomador_out])"
   ]
  },
  {
   "cell_type": "code",
   "execution_count": null,
   "metadata": {},
   "outputs": [],
   "source": [
    "tomador_geral['str_corretora'] = 'Interna'\n",
    "tomador_geral['str_clearing'] = 'Interna'\n",
    "tomador_geral['str_mercado'] = 'Emprestimo RV/AjustePosicao'"
   ]
  },
  {
   "cell_type": "code",
   "execution_count": null,
   "metadata": {},
   "outputs": [],
   "source": [
    "tomador_geral['str_codigo'] = tomador_geral['str_serie'].apply(lambda x: x[0:4])"
   ]
  },
  {
   "cell_type": "code",
   "execution_count": null,
   "metadata": {},
   "outputs": [],
   "source": [
    "tomador_geral.groupby('str_numcontrato').agg({'dbl_quantidade':sum})['dbl_quantidade'].sum()"
   ]
  },
  {
   "cell_type": "code",
   "execution_count": null,
   "metadata": {},
   "outputs": [],
   "source": [
    "teste = tomador_geral"
   ]
  },
  {
   "cell_type": "code",
   "execution_count": null,
   "metadata": {},
   "outputs": [],
   "source": [
    "teste = teste[[\n",
    "    'str_fundo',\n",
    "    'str_mesa',\n",
    "    'str_estrategia',\n",
    "    'str_corretora',\n",
    "    'str_clearing',\n",
    "    'str_mercado',\n",
    "    'str_codigo', \n",
    "    'str_serie',\n",
    "    'dbl_quantidade',\n",
    "    'str_numcontrato']]"
   ]
  },
  {
   "cell_type": "code",
   "execution_count": null,
   "metadata": {},
   "outputs": [],
   "source": [
    "teste.to_clipboard()"
   ]
  },
  {
   "cell_type": "code",
   "execution_count": null,
   "metadata": {},
   "outputs": [],
   "source": [
    "# check = ctos_btc.merge(teste.rename(columns={'dbl_quantidade':'trade','str_fundo':'fundo','str_mesa':'mesa'}),on=['fundo',\n",
    "#     'mesa',\n",
    "#     'str_estrategia','str_numcontrato'],how='inner')"
   ]
  },
  {
   "cell_type": "code",
   "execution_count": null,
   "metadata": {},
   "outputs": [],
   "source": [
    "# check['new lote'] = check['trade'] + check['dbl_quantidade']\n"
   ]
  },
  {
   "cell_type": "code",
   "execution_count": null,
   "metadata": {},
   "outputs": [],
   "source": [
    "teste"
   ]
  },
  {
   "cell_type": "code",
   "execution_count": null,
   "metadata": {},
   "outputs": [],
   "source": [
    "devol_out = devol[['fundo','mesa','str_estrategia','codigo','str_serie','volta','str_numcontrato']]\n",
    "devol_out['dbl_quantidade'] = abs(devol_out['volta'])\n",
    "\n"
   ]
  },
  {
   "cell_type": "code",
   "execution_count": null,
   "metadata": {},
   "outputs": [],
   "source": [
    "devol_out"
   ]
  },
  {
   "cell_type": "code",
   "execution_count": null,
   "metadata": {},
   "outputs": [],
   "source": [
    "devol_in = pd.DataFrame()"
   ]
  },
  {
   "cell_type": "code",
   "execution_count": null,
   "metadata": {},
   "outputs": [],
   "source": [
    "devol_in['fundo'] = devol_out['fundo']\n",
    "\n",
    "devol_in['codigo'] = devol_out['codigo']\n",
    "\n",
    "devol_in['str_serie'] = devol_out['str_serie']\n",
    "\n",
    "devol_in['str_numcontrato'] = devol_out['str_numcontrato']\n",
    "\n",
    "devol_in['dbl_quantidade'] = -devol_out['volta']"
   ]
  },
  {
   "cell_type": "code",
   "execution_count": null,
   "metadata": {},
   "outputs": [],
   "source": [
    "# devol_in['mesa'] = 0\n",
    "# devol_in['estrategia'] = 0"
   ]
  },
  {
   "cell_type": "code",
   "execution_count": null,
   "metadata": {},
   "outputs": [],
   "source": [
    "map_ajuste"
   ]
  },
  {
   "cell_type": "code",
   "execution_count": null,
   "metadata": {},
   "outputs": [],
   "source": [
    "targets = mapa[mapa['to_lend']>0]\n",
    "targets = targets.merge(devol_in[['fundo','codigo']].drop_duplicates(),on=['fundo','codigo'],how='inner')\n",
    "targets = targets[['fundo','mesa','str_estrategia','codigo','to_lend']]"
   ]
  },
  {
   "cell_type": "code",
   "execution_count": null,
   "metadata": {},
   "outputs": [],
   "source": []
  },
  {
   "cell_type": "code",
   "execution_count": null,
   "metadata": {},
   "outputs": [],
   "source": [
    "aux = devol_in.merge(targets[['fundo','mesa','str_estrategia','codigo']],on=['fundo','codigo'],how='inner')\n",
    "\n"
   ]
  },
  {
   "cell_type": "code",
   "execution_count": null,
   "metadata": {},
   "outputs": [],
   "source": [
    "## Preparar boleta de ajuste doador\n",
    "aux"
   ]
  },
  {
   "cell_type": "code",
   "execution_count": null,
   "metadata": {},
   "outputs": [],
   "source": [
    "mapa"
   ]
  },
  {
   "cell_type": "markdown",
   "metadata": {},
   "source": [
    "# 2 volta de ajustes de Internas e Diretas"
   ]
  },
  {
   "cell_type": "code",
   "execution_count": null,
   "metadata": {},
   "outputs": [],
   "source": [
    "map_ajuste = map_ajuste[map_ajuste['to_borrow_0']!=0]"
   ]
  },
  {
   "cell_type": "code",
   "execution_count": null,
   "metadata": {},
   "outputs": [],
   "source": [
    "saldo_total = mapa.groupby(['fundo','codigo']).agg({'custodia_0':sum}).reset_index()\n",
    "saldo_quebra = mapa.groupby(['fundo','codigo','mesa','str_estrategia']).agg({'custodia_0':sum}).reset_index()"
   ]
  },
  {
   "cell_type": "code",
   "execution_count": null,
   "metadata": {},
   "outputs": [],
   "source": [
    "saldo_quebra = saldo_quebra[saldo_quebra['custodia_0']>0]"
   ]
  },
  {
   "cell_type": "code",
   "execution_count": null,
   "metadata": {},
   "outputs": [],
   "source": [
    "interna_ajuste = map_ajuste.merge(saldo_total,on=['fundo','codigo'],how='left')"
   ]
  },
  {
   "cell_type": "code",
   "execution_count": null,
   "metadata": {},
   "outputs": [],
   "source": [
    "interna_ajuste = interna_ajuste[interna_ajuste['custodia_0']>=0]"
   ]
  },
  {
   "cell_type": "code",
   "execution_count": null,
   "metadata": {},
   "outputs": [],
   "source": [
    "interna_ajuste"
   ]
  },
  {
   "cell_type": "code",
   "execution_count": null,
   "metadata": {},
   "outputs": [],
   "source": [
    "mapa_aux = mapa[mapa['custodia_0']>0].merge(interna_ajuste[['fundo','codigo','mesa','str_estrategia','to_borrow_0']].rename(columns={'to_borrow_0':'qtd target','str_estrategia':'estrategia target','mesa':'mesa target'}),on=['fundo','codigo'],how='inner')"
   ]
  },
  {
   "cell_type": "code",
   "execution_count": null,
   "metadata": {},
   "outputs": [],
   "source": [
    "saldo_quebra = saldo_quebra.merge(interna_ajuste[['fundo','codigo']],on=['fundo','codigo'],how='inner')"
   ]
  },
  {
   "cell_type": "code",
   "execution_count": null,
   "metadata": {},
   "outputs": [],
   "source": [
    "saldo_quebra = saldo_quebra.drop_duplicates()"
   ]
  },
  {
   "cell_type": "code",
   "execution_count": null,
   "metadata": {},
   "outputs": [],
   "source": [
    "saldo_quebra"
   ]
  },
  {
   "cell_type": "code",
   "execution_count": null,
   "metadata": {},
   "outputs": [],
   "source": [
    "mapa_aux =  mapa_aux[['fundo','mesa','str_estrategia','codigo','custodia_0','qtd target','estrategia target','mesa target']]"
   ]
  },
  {
   "cell_type": "code",
   "execution_count": null,
   "metadata": {},
   "outputs": [],
   "source": [
    "mapa_aux"
   ]
  },
  {
   "cell_type": "code",
   "execution_count": null,
   "metadata": {},
   "outputs": [],
   "source": [
    "for i, row in mapa_aux.iterrows():\n",
    "    saldo =  saldo_quebra.loc[(saldo_quebra['fundo']==row['fundo']) &  (saldo_quebra['codigo']==row['codigo']) &  (saldo_quebra['mesa']==row['mesa']) &  (saldo_quebra['str_estrategia']==row['str_estrategia']),'custodia_0'].item()\n",
    "    \n",
    "    saldo_quebra.loc[(saldo_quebra['fundo']==row['fundo']) &  (saldo_quebra['codigo']==row['codigo']) &  (saldo_quebra['mesa']==row['mesa']) &  (saldo_quebra['str_estrategia']==row['str_estrategia']),'custodia_0'] =  saldo - row['qtd target'] \n",
    "    \n"
   ]
  },
  {
   "cell_type": "code",
   "execution_count": null,
   "metadata": {},
   "outputs": [],
   "source": [
    "saldo_quebra['status'] = saldo_quebra['custodia_0'].apply(lambda x: True if x>=0 else False )"
   ]
  },
  {
   "cell_type": "code",
   "execution_count": null,
   "metadata": {},
   "outputs": [],
   "source": [
    "saldo_quebra = saldo_quebra[saldo_quebra['status']==True][['fundo','codigo','mesa','str_estrategia']]"
   ]
  },
  {
   "cell_type": "code",
   "execution_count": null,
   "metadata": {},
   "outputs": [],
   "source": [
    "mapa_aux = mapa_aux.merge(saldo_quebra,on=['fundo','codigo','mesa','str_estrategia'],how='inner')"
   ]
  },
  {
   "cell_type": "code",
   "execution_count": null,
   "metadata": {},
   "outputs": [],
   "source": [
    "mapa_aux['out'] = -mapa_aux['qtd target']"
   ]
  },
  {
   "cell_type": "code",
   "execution_count": null,
   "metadata": {},
   "outputs": [],
   "source": [
    "mapa_aux"
   ]
  },
  {
   "cell_type": "code",
   "execution_count": null,
   "metadata": {},
   "outputs": [],
   "source": [
    "boleta_out = mapa_aux[['fundo','codigo','mesa','str_estrategia','out']]\n",
    "boleta_in = mapa_aux[['fundo','codigo','mesa target','estrategia target','qtd target']]"
   ]
  },
  {
   "cell_type": "code",
   "execution_count": null,
   "metadata": {},
   "outputs": [],
   "source": [
    "boleta_in.columns = ['str_fundo','str_codigo','str_mesa','str_estrategia','dbl_quantidade']\n",
    "boleta_out.columns = ['str_fundo','str_codigo','str_mesa','str_estrategia','dbl_quantidade']"
   ]
  },
  {
   "cell_type": "code",
   "execution_count": null,
   "metadata": {},
   "outputs": [],
   "source": [
    "last_interna = pd.concat([boleta_in,boleta_out]).rename(columns = {'str_fundo':'ALOCACAO','str_mesa':'MESA','str_estrategia':'ESTRATEGIA','dbl_quantidade':'NOTIONAL'})"
   ]
  },
  {
   "cell_type": "code",
   "execution_count": null,
   "metadata": {},
   "outputs": [],
   "source": []
  },
  {
   "cell_type": "code",
   "execution_count": null,
   "metadata": {},
   "outputs": [],
   "source": [
    "last_interna['CLEARING'] = 'Interna'\n",
    "last_interna['CONTRA'] = 'Interna'\n",
    "last_interna['TIPO'] = 'Emprestimo RV'\n",
    "last_interna['CODIGO'] = last_interna['str_codigo'].apply(lambda x: x[:4])\n",
    "last_interna['SIDE'] = last_interna['NOTIONAL'].apply(lambda x: \"T\" if x>0 else \"D\")"
   ]
  },
  {
   "cell_type": "code",
   "execution_count": null,
   "metadata": {},
   "outputs": [],
   "source": [
    "## Taxa\n",
    "def get_taxasalugueis(dt_1,ticker=None):\n",
    "    if dt_1==None:\n",
    "        dt = datetime.date.today()\n",
    "        dt_1 = workdays.workday(dt, -1, holidays_br)\n",
    "    CORPORATE_DSN_CONNECTION_STRING = \"DSN=Kapitalo_Corp\"\n",
    "\n",
    "    # df = pd.read_sql(query, db_conn_risk)\n",
    "    aux = '\"MktNm\":\"Balcao\"'\n",
    "    connection = pyodbc.connect(CORPORATE_DSN_CONNECTION_STRING)\n",
    "\n",
    "    df = pd.read_sql(f\" CALL up2data.XSP_UP2DATA_DEFAULT('{dt_1.strftime('%Y-%m-%d')}', 'Equities_AssetLoanFileV2', '{aux}' )\",connection)\n",
    "    df.columns = [x.lower() for x in df.columns]\n",
    "    df =df[df['mktnm']=='Balcao']\n",
    "\n",
    "    if ticker!=None:\n",
    "        df = df[df['tckrsymb']==ticker]\n",
    "    \n",
    "    return df\n"
   ]
  },
  {
   "cell_type": "code",
   "execution_count": null,
   "metadata": {},
   "outputs": [],
   "source": [
    "taxas = get_taxasalugueis(dt_1)[['tckrsymb','takravrgrate']].rename(columns={'tckrsymb':'str_codigo','takravrgrate':'taxa'})"
   ]
  },
  {
   "cell_type": "code",
   "execution_count": null,
   "metadata": {},
   "outputs": [],
   "source": [
    "last_interna = last_interna.merge(taxas,on=['str_codigo'],how='inner')"
   ]
  },
  {
   "cell_type": "code",
   "execution_count": null,
   "metadata": {},
   "outputs": [],
   "source": [
    "try:\n",
    "    last_interna['SERIE'] =last_interna.apply(lambda row: row['str_codigo'] + \"-\" +row['SIDE']+\"-\"+ str(row['taxa']).replace('.',',') + \"-\"+ venc_interna.strftime('%Y%m%d'+\"-\"+\"INTERNO\"),axis=1 )\n",
    "\n",
    "except:\n",
    "    pass"
   ]
  },
  {
   "cell_type": "code",
   "execution_count": null,
   "metadata": {},
   "outputs": [],
   "source": [
    "last_interna = last_interna[last_interna['NOTIONAL']!=0]"
   ]
  },
  {
   "cell_type": "code",
   "execution_count": null,
   "metadata": {},
   "outputs": [],
   "source": [
    "# last_interna.to_excel('last_interna.xlsx')\n"
   ]
  },
  {
   "cell_type": "code",
   "execution_count": null,
   "metadata": {},
   "outputs": [],
   "source": [
    "last_interna"
   ]
  },
  {
   "cell_type": "code",
   "execution_count": null,
   "metadata": {},
   "outputs": [],
   "source": [
    "mapa"
   ]
  },
  {
   "cell_type": "code",
   "execution_count": 10,
   "metadata": {},
   "outputs": [
    {
     "data": {
      "text/html": [
       "<div>\n",
       "<style scoped>\n",
       "    .dataframe tbody tr th:only-of-type {\n",
       "        vertical-align: middle;\n",
       "    }\n",
       "\n",
       "    .dataframe tbody tr th {\n",
       "        vertical-align: top;\n",
       "    }\n",
       "\n",
       "    .dataframe thead th {\n",
       "        text-align: right;\n",
       "    }\n",
       "</style>\n",
       "<table border=\"1\" class=\"dataframe\">\n",
       "  <thead>\n",
       "    <tr style=\"text-align: right;\">\n",
       "      <th></th>\n",
       "      <th>Unnamed: 0</th>\n",
       "      <th>dte_data</th>\n",
       "      <th>str_fundo</th>\n",
       "      <th>str_mercado</th>\n",
       "      <th>str_codigo</th>\n",
       "      <th>str_serie</th>\n",
       "      <th>str_mesa</th>\n",
       "      <th>str_estrategia</th>\n",
       "      <th>str_numcontrato</th>\n",
       "      <th>dbl_quantidade</th>\n",
       "      <th>codigo</th>\n",
       "      <th>tipo</th>\n",
       "      <th>preco</th>\n",
       "      <th>saldo</th>\n",
       "      <th>taxa</th>\n",
       "      <th>modalidade</th>\n",
       "      <th>vencimento</th>\n",
       "      <th>volume</th>\n",
       "      <th>corretora</th>\n",
       "    </tr>\n",
       "  </thead>\n",
       "  <tbody>\n",
       "    <tr>\n",
       "      <th>0</th>\n",
       "      <td>210</td>\n",
       "      <td>2023-09-25</td>\n",
       "      <td>KAPITALO ZETA MASTER FIM</td>\n",
       "      <td>Emprestimo RV</td>\n",
       "      <td>ABCB</td>\n",
       "      <td>ABCB4-D-0,14-20231025-BALCAO</td>\n",
       "      <td>Kapitalo 11.1</td>\n",
       "      <td>Bolsa 2</td>\n",
       "      <td>2023091400504897530001-1</td>\n",
       "      <td>-33</td>\n",
       "      <td>ABCB4</td>\n",
       "      <td>D</td>\n",
       "      <td>19.35</td>\n",
       "      <td>-100</td>\n",
       "      <td>0.14</td>\n",
       "      <td>BALCAO</td>\n",
       "      <td>20231025</td>\n",
       "      <td>-4.62</td>\n",
       "      <td>Link</td>\n",
       "    </tr>\n",
       "    <tr>\n",
       "      <th>1</th>\n",
       "      <td>211</td>\n",
       "      <td>2023-09-25</td>\n",
       "      <td>KAPITALO ZETA MASTER FIM</td>\n",
       "      <td>Emprestimo RV</td>\n",
       "      <td>ABCB</td>\n",
       "      <td>ABCB4-D-0,14-20231025-BALCAO</td>\n",
       "      <td>Kapitalo 1.0</td>\n",
       "      <td>Bolsa 2</td>\n",
       "      <td>2023091400504897530001-1</td>\n",
       "      <td>-67</td>\n",
       "      <td>ABCB4</td>\n",
       "      <td>D</td>\n",
       "      <td>19.35</td>\n",
       "      <td>-100</td>\n",
       "      <td>0.14</td>\n",
       "      <td>BALCAO</td>\n",
       "      <td>20231025</td>\n",
       "      <td>-9.38</td>\n",
       "      <td>Link</td>\n",
       "    </tr>\n",
       "    <tr>\n",
       "      <th>2</th>\n",
       "      <td>212</td>\n",
       "      <td>2023-09-25</td>\n",
       "      <td>KAPITALO ZETA MASTER FIA</td>\n",
       "      <td>Emprestimo RV</td>\n",
       "      <td>SBSP</td>\n",
       "      <td>SBSP3-D-0,03-20231016-E1</td>\n",
       "      <td>Kapitalo 11.1</td>\n",
       "      <td>CashCarry</td>\n",
       "      <td>2023091300482693140001-2</td>\n",
       "      <td>-10</td>\n",
       "      <td>SBSP3</td>\n",
       "      <td>D</td>\n",
       "      <td>59.31</td>\n",
       "      <td>-10</td>\n",
       "      <td>0.03</td>\n",
       "      <td>E1</td>\n",
       "      <td>20231016</td>\n",
       "      <td>-0.30</td>\n",
       "      <td>XP</td>\n",
       "    </tr>\n",
       "    <tr>\n",
       "      <th>3</th>\n",
       "      <td>213</td>\n",
       "      <td>2023-09-25</td>\n",
       "      <td>KAPITALO ZETA MASTER FIA</td>\n",
       "      <td>Emprestimo RV</td>\n",
       "      <td>SUZB</td>\n",
       "      <td>SUZB3-D-0,02-20231004-BALCAO</td>\n",
       "      <td>Kapitalo 11.1</td>\n",
       "      <td>CashCarry</td>\n",
       "      <td>2023082400496919070001-1</td>\n",
       "      <td>-1</td>\n",
       "      <td>SUZB3</td>\n",
       "      <td>D</td>\n",
       "      <td>49.45</td>\n",
       "      <td>-723</td>\n",
       "      <td>0.02</td>\n",
       "      <td>BALCAO</td>\n",
       "      <td>20231004</td>\n",
       "      <td>-0.02</td>\n",
       "      <td>XP</td>\n",
       "    </tr>\n",
       "    <tr>\n",
       "      <th>4</th>\n",
       "      <td>214</td>\n",
       "      <td>2023-09-25</td>\n",
       "      <td>KAPITALO ZETA MASTER FIA</td>\n",
       "      <td>Emprestimo RV</td>\n",
       "      <td>SUZB</td>\n",
       "      <td>SUZB3-D-0,02-20231004-BALCAO</td>\n",
       "      <td>Kapitalo 11.1</td>\n",
       "      <td>Bolsa 2</td>\n",
       "      <td>2023082400496919070001-1</td>\n",
       "      <td>-240</td>\n",
       "      <td>SUZB3</td>\n",
       "      <td>D</td>\n",
       "      <td>49.45</td>\n",
       "      <td>-723</td>\n",
       "      <td>0.02</td>\n",
       "      <td>BALCAO</td>\n",
       "      <td>20231004</td>\n",
       "      <td>-4.80</td>\n",
       "      <td>XP</td>\n",
       "    </tr>\n",
       "    <tr>\n",
       "      <th>...</th>\n",
       "      <td>...</td>\n",
       "      <td>...</td>\n",
       "      <td>...</td>\n",
       "      <td>...</td>\n",
       "      <td>...</td>\n",
       "      <td>...</td>\n",
       "      <td>...</td>\n",
       "      <td>...</td>\n",
       "      <td>...</td>\n",
       "      <td>...</td>\n",
       "      <td>...</td>\n",
       "      <td>...</td>\n",
       "      <td>...</td>\n",
       "      <td>...</td>\n",
       "      <td>...</td>\n",
       "      <td>...</td>\n",
       "      <td>...</td>\n",
       "      <td>...</td>\n",
       "      <td>...</td>\n",
       "    </tr>\n",
       "    <tr>\n",
       "      <th>5752</th>\n",
       "      <td>39627</td>\n",
       "      <td>2023-09-25</td>\n",
       "      <td>KAPITALO K10 PREV MASTER FIM</td>\n",
       "      <td>Emprestimo RV</td>\n",
       "      <td>CYRE</td>\n",
       "      <td>CYRE3-D-0,52-20231106-BALCAO</td>\n",
       "      <td>Kapitalo 11.1</td>\n",
       "      <td>Bolsa 2</td>\n",
       "      <td>2023092500509451580001-1</td>\n",
       "      <td>-1914</td>\n",
       "      <td>CYRE3</td>\n",
       "      <td>D</td>\n",
       "      <td>20.92</td>\n",
       "      <td>-1914</td>\n",
       "      <td>0.52</td>\n",
       "      <td>BALCAO</td>\n",
       "      <td>20231106</td>\n",
       "      <td>-995.28</td>\n",
       "      <td>Terra</td>\n",
       "    </tr>\n",
       "    <tr>\n",
       "      <th>5753</th>\n",
       "      <td>39628</td>\n",
       "      <td>2023-09-25</td>\n",
       "      <td>KAPITALO K10 PREV MASTER FIM</td>\n",
       "      <td>Emprestimo RV</td>\n",
       "      <td>CYRE</td>\n",
       "      <td>CYRE3-D-0,52-20231106-BALCAO</td>\n",
       "      <td>Kapitalo 11.1</td>\n",
       "      <td>Bolsa 2</td>\n",
       "      <td>2023092500509451160001-1</td>\n",
       "      <td>-694</td>\n",
       "      <td>CYRE3</td>\n",
       "      <td>D</td>\n",
       "      <td>20.92</td>\n",
       "      <td>-694</td>\n",
       "      <td>0.52</td>\n",
       "      <td>BALCAO</td>\n",
       "      <td>20231106</td>\n",
       "      <td>-360.88</td>\n",
       "      <td>Terra</td>\n",
       "    </tr>\n",
       "    <tr>\n",
       "      <th>5754</th>\n",
       "      <td>39629</td>\n",
       "      <td>2023-09-25</td>\n",
       "      <td>KAPITALO K10 PREV MASTER FIM</td>\n",
       "      <td>Emprestimo RV</td>\n",
       "      <td>CVCB</td>\n",
       "      <td>CVCB3-T-4,52-20231002-BALCAO</td>\n",
       "      <td>Kapitalo 11.1</td>\n",
       "      <td>Bolsa 2</td>\n",
       "      <td>2023082200482706750001-2</td>\n",
       "      <td>25406</td>\n",
       "      <td>CVCB3</td>\n",
       "      <td>T</td>\n",
       "      <td>2.51</td>\n",
       "      <td>25406</td>\n",
       "      <td>4.52</td>\n",
       "      <td>BALCAO</td>\n",
       "      <td>20231002</td>\n",
       "      <td>114835.12</td>\n",
       "      <td>Bradesco</td>\n",
       "    </tr>\n",
       "    <tr>\n",
       "      <th>5755</th>\n",
       "      <td>39630</td>\n",
       "      <td>2023-09-25</td>\n",
       "      <td>KAPITALO K10 PREV MASTER FIM</td>\n",
       "      <td>Emprestimo RV</td>\n",
       "      <td>CVCB</td>\n",
       "      <td>CVCB3-T-3,12-20231030-BALCAO</td>\n",
       "      <td>Kapitalo 11.1</td>\n",
       "      <td>Bolsa 2</td>\n",
       "      <td>2023091900507360490001-1</td>\n",
       "      <td>29791</td>\n",
       "      <td>CVCB3</td>\n",
       "      <td>T</td>\n",
       "      <td>2.29</td>\n",
       "      <td>29791</td>\n",
       "      <td>3.12</td>\n",
       "      <td>BALCAO</td>\n",
       "      <td>20231030</td>\n",
       "      <td>92947.92</td>\n",
       "      <td>Bradesco</td>\n",
       "    </tr>\n",
       "    <tr>\n",
       "      <th>5756</th>\n",
       "      <td>39631</td>\n",
       "      <td>2023-09-25</td>\n",
       "      <td>KAPITALO K10 PREV MASTER FIM</td>\n",
       "      <td>Emprestimo RV</td>\n",
       "      <td>CVCB</td>\n",
       "      <td>CVCB3-T-3,12-20231030-BALCAO</td>\n",
       "      <td>Kapitalo 11.1</td>\n",
       "      <td>Bolsa 2</td>\n",
       "      <td>2023091900507360320001-1</td>\n",
       "      <td>8378</td>\n",
       "      <td>CVCB3</td>\n",
       "      <td>T</td>\n",
       "      <td>2.29</td>\n",
       "      <td>8378</td>\n",
       "      <td>3.12</td>\n",
       "      <td>BALCAO</td>\n",
       "      <td>20231030</td>\n",
       "      <td>26139.36</td>\n",
       "      <td>Bradesco</td>\n",
       "    </tr>\n",
       "  </tbody>\n",
       "</table>\n",
       "<p>5757 rows × 19 columns</p>\n",
       "</div>"
      ],
      "text/plain": [
       "      Unnamed: 0   dte_data                     str_fundo    str_mercado  \\\n",
       "0            210 2023-09-25      KAPITALO ZETA MASTER FIM  Emprestimo RV   \n",
       "1            211 2023-09-25      KAPITALO ZETA MASTER FIM  Emprestimo RV   \n",
       "2            212 2023-09-25      KAPITALO ZETA MASTER FIA  Emprestimo RV   \n",
       "3            213 2023-09-25      KAPITALO ZETA MASTER FIA  Emprestimo RV   \n",
       "4            214 2023-09-25      KAPITALO ZETA MASTER FIA  Emprestimo RV   \n",
       "...          ...        ...                           ...            ...   \n",
       "5752       39627 2023-09-25  KAPITALO K10 PREV MASTER FIM  Emprestimo RV   \n",
       "5753       39628 2023-09-25  KAPITALO K10 PREV MASTER FIM  Emprestimo RV   \n",
       "5754       39629 2023-09-25  KAPITALO K10 PREV MASTER FIM  Emprestimo RV   \n",
       "5755       39630 2023-09-25  KAPITALO K10 PREV MASTER FIM  Emprestimo RV   \n",
       "5756       39631 2023-09-25  KAPITALO K10 PREV MASTER FIM  Emprestimo RV   \n",
       "\n",
       "     str_codigo                     str_serie       str_mesa str_estrategia  \\\n",
       "0          ABCB  ABCB4-D-0,14-20231025-BALCAO  Kapitalo 11.1        Bolsa 2   \n",
       "1          ABCB  ABCB4-D-0,14-20231025-BALCAO   Kapitalo 1.0        Bolsa 2   \n",
       "2          SBSP      SBSP3-D-0,03-20231016-E1  Kapitalo 11.1      CashCarry   \n",
       "3          SUZB  SUZB3-D-0,02-20231004-BALCAO  Kapitalo 11.1      CashCarry   \n",
       "4          SUZB  SUZB3-D-0,02-20231004-BALCAO  Kapitalo 11.1        Bolsa 2   \n",
       "...         ...                           ...            ...            ...   \n",
       "5752       CYRE  CYRE3-D-0,52-20231106-BALCAO  Kapitalo 11.1        Bolsa 2   \n",
       "5753       CYRE  CYRE3-D-0,52-20231106-BALCAO  Kapitalo 11.1        Bolsa 2   \n",
       "5754       CVCB  CVCB3-T-4,52-20231002-BALCAO  Kapitalo 11.1        Bolsa 2   \n",
       "5755       CVCB  CVCB3-T-3,12-20231030-BALCAO  Kapitalo 11.1        Bolsa 2   \n",
       "5756       CVCB  CVCB3-T-3,12-20231030-BALCAO  Kapitalo 11.1        Bolsa 2   \n",
       "\n",
       "               str_numcontrato  dbl_quantidade codigo tipo  preco  saldo  \\\n",
       "0     2023091400504897530001-1             -33  ABCB4    D  19.35   -100   \n",
       "1     2023091400504897530001-1             -67  ABCB4    D  19.35   -100   \n",
       "2     2023091300482693140001-2             -10  SBSP3    D  59.31    -10   \n",
       "3     2023082400496919070001-1              -1  SUZB3    D  49.45   -723   \n",
       "4     2023082400496919070001-1            -240  SUZB3    D  49.45   -723   \n",
       "...                        ...             ...    ...  ...    ...    ...   \n",
       "5752  2023092500509451580001-1           -1914  CYRE3    D  20.92  -1914   \n",
       "5753  2023092500509451160001-1            -694  CYRE3    D  20.92   -694   \n",
       "5754  2023082200482706750001-2           25406  CVCB3    T   2.51  25406   \n",
       "5755  2023091900507360490001-1           29791  CVCB3    T   2.29  29791   \n",
       "5756  2023091900507360320001-1            8378  CVCB3    T   2.29   8378   \n",
       "\n",
       "      taxa modalidade  vencimento     volume corretora  \n",
       "0     0.14     BALCAO    20231025      -4.62      Link  \n",
       "1     0.14     BALCAO    20231025      -9.38      Link  \n",
       "2     0.03         E1    20231016      -0.30        XP  \n",
       "3     0.02     BALCAO    20231004      -0.02        XP  \n",
       "4     0.02     BALCAO    20231004      -4.80        XP  \n",
       "...    ...        ...         ...        ...       ...  \n",
       "5752  0.52     BALCAO    20231106    -995.28     Terra  \n",
       "5753  0.52     BALCAO    20231106    -360.88     Terra  \n",
       "5754  4.52     BALCAO    20231002  114835.12  Bradesco  \n",
       "5755  3.12     BALCAO    20231030   92947.92  Bradesco  \n",
       "5756  3.12     BALCAO    20231030   26139.36  Bradesco  \n",
       "\n",
       "[5757 rows x 19 columns]"
      ]
     },
     "execution_count": 10,
     "metadata": {},
     "output_type": "execute_result"
    }
   ],
   "source": [
    "ctos_btc"
   ]
  },
  {
   "cell_type": "markdown",
   "metadata": {},
   "source": [
    "# Ajustes Gerais"
   ]
  },
  {
   "cell_type": "code",
   "execution_count": null,
   "metadata": {},
   "outputs": [],
   "source": []
  },
  {
   "cell_type": "code",
   "execution_count": 194,
   "metadata": {},
   "outputs": [],
   "source": []
  },
  {
   "cell_type": "markdown",
   "metadata": {},
   "source": [
    "# Ajustes Contratos\n"
   ]
  },
  {
   "cell_type": "code",
   "execution_count": 1,
   "metadata": {},
   "outputs": [
    {
     "name": "stdout",
     "output_type": "stream",
     "text": [
      "1\n"
     ]
    }
   ],
   "source": [
    "print(1)"
   ]
  },
  {
   "cell_type": "code",
   "execution_count": 2,
   "metadata": {},
   "outputs": [
    {
     "data": {
      "text/html": [
       "<div>\n",
       "<style scoped>\n",
       "    .dataframe tbody tr th:only-of-type {\n",
       "        vertical-align: middle;\n",
       "    }\n",
       "\n",
       "    .dataframe tbody tr th {\n",
       "        vertical-align: top;\n",
       "    }\n",
       "\n",
       "    .dataframe thead th {\n",
       "        text-align: right;\n",
       "    }\n",
       "</style>\n",
       "<table border=\"1\" class=\"dataframe\">\n",
       "  <thead>\n",
       "    <tr style=\"text-align: right;\">\n",
       "      <th></th>\n",
       "      <th>str_fundo</th>\n",
       "      <th>str_mesa</th>\n",
       "      <th>str_estrategia</th>\n",
       "      <th>str_codigo</th>\n",
       "      <th>str_serie</th>\n",
       "      <th>str_numcontrato</th>\n",
       "      <th>dbl_quantidade</th>\n",
       "      <th>lote_ajustado</th>\n",
       "      <th>dbl_quantidade_new</th>\n",
       "      <th>tipo</th>\n",
       "      <th>codigo</th>\n",
       "      <th>test</th>\n",
       "    </tr>\n",
       "  </thead>\n",
       "  <tbody>\n",
       "  </tbody>\n",
       "</table>\n",
       "</div>"
      ],
      "text/plain": [
       "Empty DataFrame\n",
       "Columns: [str_fundo, str_mesa, str_estrategia, str_codigo, str_serie, str_numcontrato, dbl_quantidade, lote_ajustado, dbl_quantidade_new, tipo, codigo, test]\n",
       "Index: []"
      ]
     },
     "metadata": {},
     "output_type": "display_data"
    },
    {
     "name": "stdout",
     "output_type": "stream",
     "text": [
      "Empty DataFrame\n",
      "Columns: []\n",
      "Index: []\n"
     ]
    },
    {
     "ename": "KeyError",
     "evalue": "'dbl_quantidade_new'",
     "output_type": "error",
     "traceback": [
      "\u001b[1;31m---------------------------------------------------------------------------\u001b[0m",
      "\u001b[1;31mKeyError\u001b[0m                                  Traceback (most recent call last)",
      "\u001b[1;32mc:\\Python37\\lib\\site-packages\\pandas\\core\\indexes\\base.py\u001b[0m in \u001b[0;36mget_loc\u001b[1;34m(self, key, method, tolerance)\u001b[0m\n\u001b[0;32m   3360\u001b[0m             \u001b[1;32mtry\u001b[0m\u001b[1;33m:\u001b[0m\u001b[1;33m\u001b[0m\u001b[1;33m\u001b[0m\u001b[0m\n\u001b[1;32m-> 3361\u001b[1;33m                 \u001b[1;32mreturn\u001b[0m \u001b[0mself\u001b[0m\u001b[1;33m.\u001b[0m\u001b[0m_engine\u001b[0m\u001b[1;33m.\u001b[0m\u001b[0mget_loc\u001b[0m\u001b[1;33m(\u001b[0m\u001b[0mcasted_key\u001b[0m\u001b[1;33m)\u001b[0m\u001b[1;33m\u001b[0m\u001b[1;33m\u001b[0m\u001b[0m\n\u001b[0m\u001b[0;32m   3362\u001b[0m             \u001b[1;32mexcept\u001b[0m \u001b[0mKeyError\u001b[0m \u001b[1;32mas\u001b[0m \u001b[0merr\u001b[0m\u001b[1;33m:\u001b[0m\u001b[1;33m\u001b[0m\u001b[1;33m\u001b[0m\u001b[0m\n",
      "\u001b[1;32mc:\\Python37\\lib\\site-packages\\pandas\\_libs\\index.pyx\u001b[0m in \u001b[0;36mpandas._libs.index.IndexEngine.get_loc\u001b[1;34m()\u001b[0m\n",
      "\u001b[1;32mc:\\Python37\\lib\\site-packages\\pandas\\_libs\\index.pyx\u001b[0m in \u001b[0;36mpandas._libs.index.IndexEngine.get_loc\u001b[1;34m()\u001b[0m\n",
      "\u001b[1;32mpandas\\_libs\\hashtable_class_helper.pxi\u001b[0m in \u001b[0;36mpandas._libs.hashtable.PyObjectHashTable.get_item\u001b[1;34m()\u001b[0m\n",
      "\u001b[1;32mpandas\\_libs\\hashtable_class_helper.pxi\u001b[0m in \u001b[0;36mpandas._libs.hashtable.PyObjectHashTable.get_item\u001b[1;34m()\u001b[0m\n",
      "\u001b[1;31mKeyError\u001b[0m: 'dbl_quantidade_new'",
      "\nThe above exception was the direct cause of the following exception:\n",
      "\u001b[1;31mKeyError\u001b[0m                                  Traceback (most recent call last)",
      "\u001b[1;32m~\\AppData\\Local\\Temp\\ipykernel_19672\\3086670489.py\u001b[0m in \u001b[0;36m<module>\u001b[1;34m\u001b[0m\n\u001b[0;32m    143\u001b[0m \u001b[0mprint\u001b[0m\u001b[1;33m(\u001b[0m\u001b[0mboletas\u001b[0m\u001b[1;33m)\u001b[0m\u001b[1;33m\u001b[0m\u001b[1;33m\u001b[0m\u001b[0m\n\u001b[0;32m    144\u001b[0m \u001b[1;33m\u001b[0m\u001b[0m\n\u001b[1;32m--> 145\u001b[1;33m \u001b[0mboletas\u001b[0m  \u001b[1;33m=\u001b[0m \u001b[0mboletas\u001b[0m\u001b[1;33m[\u001b[0m\u001b[0mboletas\u001b[0m\u001b[1;33m[\u001b[0m\u001b[1;34m'dbl_quantidade_new'\u001b[0m\u001b[1;33m]\u001b[0m\u001b[1;33m!=\u001b[0m\u001b[1;36m0\u001b[0m\u001b[1;33m]\u001b[0m\u001b[1;33m\u001b[0m\u001b[1;33m\u001b[0m\u001b[0m\n\u001b[0m\u001b[0;32m    146\u001b[0m \u001b[1;33m\u001b[0m\u001b[0m\n\u001b[0;32m    147\u001b[0m \u001b[0maux_ajuste\u001b[0m \u001b[1;33m=\u001b[0m \u001b[0mboletas\u001b[0m\u001b[1;33m.\u001b[0m\u001b[0mgroupby\u001b[0m\u001b[1;33m(\u001b[0m\u001b[1;34m'str_numcontrato'\u001b[0m\u001b[1;33m)\u001b[0m\u001b[1;33m.\u001b[0m\u001b[0msum\u001b[0m\u001b[1;33m(\u001b[0m\u001b[1;33m)\u001b[0m\u001b[1;33m.\u001b[0m\u001b[0mreset_index\u001b[0m\u001b[1;33m(\u001b[0m\u001b[1;33m)\u001b[0m\u001b[1;33m\u001b[0m\u001b[1;33m\u001b[0m\u001b[0m\n",
      "\u001b[1;32mc:\\Python37\\lib\\site-packages\\pandas\\core\\frame.py\u001b[0m in \u001b[0;36m__getitem__\u001b[1;34m(self, key)\u001b[0m\n\u001b[0;32m   3456\u001b[0m             \u001b[1;32mif\u001b[0m \u001b[0mself\u001b[0m\u001b[1;33m.\u001b[0m\u001b[0mcolumns\u001b[0m\u001b[1;33m.\u001b[0m\u001b[0mnlevels\u001b[0m \u001b[1;33m>\u001b[0m \u001b[1;36m1\u001b[0m\u001b[1;33m:\u001b[0m\u001b[1;33m\u001b[0m\u001b[1;33m\u001b[0m\u001b[0m\n\u001b[0;32m   3457\u001b[0m                 \u001b[1;32mreturn\u001b[0m \u001b[0mself\u001b[0m\u001b[1;33m.\u001b[0m\u001b[0m_getitem_multilevel\u001b[0m\u001b[1;33m(\u001b[0m\u001b[0mkey\u001b[0m\u001b[1;33m)\u001b[0m\u001b[1;33m\u001b[0m\u001b[1;33m\u001b[0m\u001b[0m\n\u001b[1;32m-> 3458\u001b[1;33m             \u001b[0mindexer\u001b[0m \u001b[1;33m=\u001b[0m \u001b[0mself\u001b[0m\u001b[1;33m.\u001b[0m\u001b[0mcolumns\u001b[0m\u001b[1;33m.\u001b[0m\u001b[0mget_loc\u001b[0m\u001b[1;33m(\u001b[0m\u001b[0mkey\u001b[0m\u001b[1;33m)\u001b[0m\u001b[1;33m\u001b[0m\u001b[1;33m\u001b[0m\u001b[0m\n\u001b[0m\u001b[0;32m   3459\u001b[0m             \u001b[1;32mif\u001b[0m \u001b[0mis_integer\u001b[0m\u001b[1;33m(\u001b[0m\u001b[0mindexer\u001b[0m\u001b[1;33m)\u001b[0m\u001b[1;33m:\u001b[0m\u001b[1;33m\u001b[0m\u001b[1;33m\u001b[0m\u001b[0m\n\u001b[0;32m   3460\u001b[0m                 \u001b[0mindexer\u001b[0m \u001b[1;33m=\u001b[0m \u001b[1;33m[\u001b[0m\u001b[0mindexer\u001b[0m\u001b[1;33m]\u001b[0m\u001b[1;33m\u001b[0m\u001b[1;33m\u001b[0m\u001b[0m\n",
      "\u001b[1;32mc:\\Python37\\lib\\site-packages\\pandas\\core\\indexes\\base.py\u001b[0m in \u001b[0;36mget_loc\u001b[1;34m(self, key, method, tolerance)\u001b[0m\n\u001b[0;32m   3361\u001b[0m                 \u001b[1;32mreturn\u001b[0m \u001b[0mself\u001b[0m\u001b[1;33m.\u001b[0m\u001b[0m_engine\u001b[0m\u001b[1;33m.\u001b[0m\u001b[0mget_loc\u001b[0m\u001b[1;33m(\u001b[0m\u001b[0mcasted_key\u001b[0m\u001b[1;33m)\u001b[0m\u001b[1;33m\u001b[0m\u001b[1;33m\u001b[0m\u001b[0m\n\u001b[0;32m   3362\u001b[0m             \u001b[1;32mexcept\u001b[0m \u001b[0mKeyError\u001b[0m \u001b[1;32mas\u001b[0m \u001b[0merr\u001b[0m\u001b[1;33m:\u001b[0m\u001b[1;33m\u001b[0m\u001b[1;33m\u001b[0m\u001b[0m\n\u001b[1;32m-> 3363\u001b[1;33m                 \u001b[1;32mraise\u001b[0m \u001b[0mKeyError\u001b[0m\u001b[1;33m(\u001b[0m\u001b[0mkey\u001b[0m\u001b[1;33m)\u001b[0m \u001b[1;32mfrom\u001b[0m \u001b[0merr\u001b[0m\u001b[1;33m\u001b[0m\u001b[1;33m\u001b[0m\u001b[0m\n\u001b[0m\u001b[0;32m   3364\u001b[0m \u001b[1;33m\u001b[0m\u001b[0m\n\u001b[0;32m   3365\u001b[0m         \u001b[1;32mif\u001b[0m \u001b[0mis_scalar\u001b[0m\u001b[1;33m(\u001b[0m\u001b[0mkey\u001b[0m\u001b[1;33m)\u001b[0m \u001b[1;32mand\u001b[0m \u001b[0misna\u001b[0m\u001b[1;33m(\u001b[0m\u001b[0mkey\u001b[0m\u001b[1;33m)\u001b[0m \u001b[1;32mand\u001b[0m \u001b[1;32mnot\u001b[0m \u001b[0mself\u001b[0m\u001b[1;33m.\u001b[0m\u001b[0mhasnans\u001b[0m\u001b[1;33m:\u001b[0m\u001b[1;33m\u001b[0m\u001b[1;33m\u001b[0m\u001b[0m\n",
      "\u001b[1;31mKeyError\u001b[0m: 'dbl_quantidade_new'"
     ]
    }
   ],
   "source": [
    "\n",
    "#\n",
    "import sys\n",
    "\n",
    "# from devolucao import get_df_devol\n",
    "sys.path.append(\"..\")\n",
    "import DB\n",
    "import workdays\n",
    "import datetime\n",
    "import pandas as pd\n",
    "import numpy as np\n",
    "import carteira_ibov\n",
    "import taxas\n",
    "import os\n",
    "pd.options.mode.chained_assignment = None  # default='warn'\n",
    "import config2 as config\n",
    "import psycopg2\n",
    "import pandas as pd\n",
    "import workdays\n",
    "import pyodbc\n",
    "#\n",
    "holidays_br = workdays.load_holidays(\"BR\")\n",
    "holidays_b3 = workdays.load_holidays(\"B3\")\n",
    "\n",
    "dt = datetime.date.today()\n",
    "vcto_0 = dt\n",
    "dt_pos = workdays.workday(dt, -1, holidays_br)\n",
    "\n",
    "\n",
    "dt_1 = workdays.workday(dt, -1, holidays_b3)\n",
    "dt_2 = workdays.workday(dt, -2, holidays_b3)\n",
    "dt_3 = workdays.workday(dt, -3, holidays_b3)\n",
    "dt_4 = workdays.workday(dt, -4, holidays_b3)\n",
    "\n",
    "dt_next_1 = workdays.workday(dt, 1, holidays_b3)\n",
    "vcto_1 = dt_next_1\n",
    "dt_next_2 = workdays.workday(dt, 2, holidays_b3)\n",
    "vcto_2 = dt_next_2\n",
    "dt_next_3 = workdays.workday(dt, 3, holidays_b3)\n",
    "vcto_3 = dt_next_3\n",
    "dt_next_4 = workdays.workday(dt, 4, holidays_b3)\n",
    "vcto_4 = dt_next_4\n",
    "dt_next_5 = workdays.workday(dt, 5, holidays_b3)\n",
    "vcto_5 = dt_next_5\n",
    "\n",
    "dt_liq = workdays.workday(dt_1, 4, holidays_b3)\n",
    "\n",
    "db_conn_test = psycopg2.connect(\n",
    "host=config.DB_TESTE_HOST,\n",
    "dbname=config.DB_TESTE_NAME,\n",
    "user=config.DB_TESTE_USER,\n",
    "password=config.DB_TESTE_PASS)\n",
    "\n",
    "query = f\"select * from tbl_alugueisconsolidados where dte_data='{dt_1.strftime('%Y-%m-%d')}' and str_mesa in ('Kapitalo 11.1','Kapitalo 1.0')\"\n",
    "\n",
    "query_ibotz = f\" select str_fundo,str_mesa,str_mercado,str_estrategia,str_codigo,str_serie, str_numcontrato,sum(dbl_quantidade) as lote_ajustado  from ibotz.tbl_boletasalugueis_ibotz where dte_data='{dt.strftime('%Y-%m-%d')}' and str_mesa in ('Kapitalo 11.1','Kapitalo 1.0') and str_mercado in ('Emprestimo RV/AjustePosicao','Emprestimo RV/Devolucao') group by str_fundo,str_mesa,str_mercado,str_estrategia,str_codigo,str_serie, str_numcontrato\"\n",
    "\n",
    "\n",
    "\n",
    "btc_ibotz = pd.read_sql(query_ibotz,db_conn_test)\n",
    "\n",
    "btc_ibotz['str_serie'] = btc_ibotz['str_serie'].apply(lambda x: x.split('/')[0])\n",
    "btc_ibotz = btc_ibotz.groupby(['str_fundo','str_mesa','str_mercado','str_estrategia','str_codigo','str_serie', 'str_numcontrato']).sum().reset_index()\n",
    "\n",
    "ctos_btc = pd.read_sql(query, db_conn_test)\n",
    "if not btc_ibotz.empty:\n",
    "    ctos_btc = ctos_btc.merge(btc_ibotz,on=['str_fundo', 'str_mesa', 'str_estrategia', 'str_codigo', 'str_serie',\n",
    "    'str_numcontrato'],how='outer').fillna(0)\n",
    "else:\n",
    "    ctos_btc['lote_ajustado'] = 0\n",
    "# btc_ibotz.columns = ['index','str_fundo','str_mesa'\t,'str_estrategia','clearing','contra','tipo','str_codigo','str_serie','lote_ajustado','dbl_preco','side','str_numcontrato']\n",
    "# aux_columns = ctos_btc.columns\n",
    "\n",
    "ctos_btc = ctos_btc.groupby(['str_fundo', 'str_mesa', 'str_estrategia', 'str_codigo', 'str_serie','str_numcontrato']).agg({'dbl_quantidade':sum,'lote_ajustado':sum}).reset_index()\n",
    "# ctos_btc['preco'] = ctos_btc['str_numcontrato'].map(prices)\n",
    "ctos_btc['dbl_quantidade_new'] =ctos_btc['dbl_quantidade']+ctos_btc['lote_ajustado']\n",
    "ctos_btc.to_excel('ctos_ajustados.xlsx')\n",
    "ctos_btc['tipo'] = ctos_btc['str_serie'].apply(lambda x: x.split('-')[1])\n",
    "ctos_btc['codigo'] = ctos_btc['str_serie'].apply(lambda x: x.split('-')[0])\n",
    "ctos_btc['test'] = ctos_btc.apply(lambda row: False if ((row['tipo']=='T')& (row['dbl_quantidade_new']<0) ) else False if ((row['tipo']=='D')& (row['dbl_quantidade_new']>0) ) else True,axis=1 )\n",
    "\n",
    "ajuste = ctos_btc[ctos_btc['test']==False]\n",
    "display(ajuste)\n",
    "target_ajuste = ctos_btc[ctos_btc['test']==True]\n",
    "target_ajuste['dbl_quantidade_abs'] = target_ajuste['dbl_quantidade_new'].apply(lambda x: abs(x))\n",
    "target_df = pd.DataFrame()\n",
    "ajustes_targets = target_ajuste[['str_fundo','str_mesa','str_serie','str_estrategia','str_numcontrato','dbl_quantidade_new']]\n",
    "\n",
    "\n",
    "ajuste = ajuste[['str_fundo','str_mesa','str_estrategia','codigo','str_serie','tipo','dbl_quantidade_new','str_numcontrato']]\n",
    "\n",
    "ajuste\n",
    "# aux = ajuste[ajuste['str_numcontrato']=='2023092000507940640001-1'].copy()\n",
    "aux = ajuste.copy()\n",
    "boletas = pd.DataFrame()\n",
    "if not aux.empty:\n",
    "    for i,row in aux.iterrows():\n",
    "        if ajustes_targets.loc[ajustes_targets['str_numcontrato']==row['str_numcontrato']].shape[0]==1:\n",
    "            \n",
    "            if (ajustes_targets.loc[ajustes_targets['str_numcontrato']==row['str_numcontrato'],'dbl_quantidade_new'].item() + row['dbl_quantidade_new'])>=0:\n",
    "                aux_target = ajustes_targets.loc[ajustes_targets['str_numcontrato']==row['str_numcontrato']].copy()\n",
    "                aux_target['dbl_quantidade_new'] = row['dbl_quantidade_new']\n",
    "                \n",
    "                boletas = pd.concat([aux_target,boletas])\n",
    "                \n",
    "                boletas = boletas.append({\n",
    "                    'str_fundo':row['str_fundo'], \n",
    "                    'str_mesa':row['str_mesa'],\n",
    "                     'str_serie':row['str_serie'],\n",
    "                      'str_estrategia':row['str_estrategia'],\n",
    "                      'str_numcontrato':row['str_numcontrato'],\n",
    "                      'dbl_quantidade_new':-row['dbl_quantidade_new']\n",
    "                },ignore_index=True)\n",
    "            elif row['tipo']=='D':\n",
    "                aux_target = ajustes_targets.loc[ajustes_targets['str_numcontrato']==row['str_numcontrato']].copy()\n",
    "                aux_target['dbl_quantidade_new'] = row['dbl_quantidade_new']\n",
    "                \n",
    "                boletas = pd.concat([aux_target,boletas])\n",
    "                \n",
    "                boletas = boletas.append({\n",
    "                    'str_fundo':row['str_fundo'], \n",
    "                    'str_mesa':row['str_mesa'],\n",
    "                     'str_serie':row['str_serie'],\n",
    "                      'str_estrategia':row['str_estrategia'],\n",
    "                      'str_numcontrato':row['str_numcontrato'],\n",
    "                      'dbl_quantidade_new':-row['dbl_quantidade_new']\n",
    "                },ignore_index=True)\n",
    "            \n",
    "        else:\n",
    "            \n",
    "            aux_target = ajustes_targets.loc[ajustes_targets['str_numcontrato']==row['str_numcontrato']].copy()\n",
    "            aux_target['prop'] = aux_target['dbl_quantidade_new']/aux_target['dbl_quantidade_new'].sum()\n",
    "            aux_target['dbl_quantidade_new'] = (aux_target['prop']*row['dbl_quantidade_new']).round(0)\n",
    "            boletas = pd.concat([aux_target,boletas])\n",
    "            boletas = boletas.append({\n",
    "                'str_fundo':row['str_fundo'], \n",
    "                'str_mesa':row['str_mesa'],\n",
    "                    'str_serie':row['str_serie'],\n",
    "                    'str_estrategia':row['str_estrategia'],\n",
    "                    'str_numcontrato':row['str_numcontrato'],\n",
    "                    'dbl_quantidade_new':-row['dbl_quantidade_new']\n",
    "            },ignore_index=True).fillna(0)\n",
    "        \n",
    "print(boletas)\n",
    "\n",
    "boletas  = boletas[boletas['dbl_quantidade_new']!=0]\n",
    "\n",
    "aux_ajuste = boletas.groupby('str_numcontrato').sum().reset_index()\n",
    "\n",
    "\n",
    "aux_ajuste = aux_ajuste[aux_ajuste['dbl_quantidade_new']!=0]\n",
    "\n",
    "\n",
    "aux_ajuste = aux_ajuste.set_index('str_numcontrato')['dbl_quantidade_new'].to_dict()\n",
    "\n",
    "\n",
    "for i,value in aux_ajuste.items():\n",
    "    aux_max = boletas.loc[boletas['str_numcontrato']==i,'dbl_quantidade_new'].max()\n",
    "    boletas.loc[(boletas['str_numcontrato']==i)&(boletas['dbl_quantidade_new']==aux_max),'dbl_quantidade_new'] = boletas.loc[(boletas['str_numcontrato']==i)&(boletas['dbl_quantidade_new']==aux_max),'dbl_quantidade_new']  - aux_ajuste[i]\n",
    "\n",
    "\n",
    "boletas['str_corretora']='Interna'\n",
    "boletas['str_clearing']='Interna'\n",
    "boletas['str_mercado']='Emprestimo RV/AjustePosicao'\n",
    "\n",
    "boletas['str_codigo'] = boletas['str_serie'].apply(lambda x: x[:4])\n",
    "\n",
    "boletas['dbl_preco'] = 0\n",
    "\n",
    "boletas = boletas[['str_fundo','str_mesa','str_estrategia','str_clearing','str_corretora','str_mercado','str_codigo','str_serie','dbl_quantidade_new','dbl_preco','str_numcontrato']]\n",
    "\n",
    "boletas.columns = ['ALOCACAO', 'MESA', 'ESTRATEGIA', 'CLEARING', 'CONTRA', 'TIPO','CODIGO', 'SERIE', 'NOTIONAL', 'PREMIO', 'OBS']\n",
    "\n",
    "# ibotz_k11.df_to_ibotz_ajuste(boletas)"
   ]
  },
  {
   "cell_type": "code",
   "execution_count": null,
   "metadata": {},
   "outputs": [],
   "source": []
  },
  {
   "cell_type": "code",
   "execution_count": null,
   "metadata": {},
   "outputs": [],
   "source": []
  },
  {
   "cell_type": "code",
   "execution_count": 39,
   "metadata": {},
   "outputs": [],
   "source": []
  },
  {
   "cell_type": "code",
   "execution_count": 40,
   "metadata": {},
   "outputs": [],
   "source": []
  },
  {
   "cell_type": "code",
   "execution_count": 41,
   "metadata": {},
   "outputs": [],
   "source": []
  },
  {
   "cell_type": "code",
   "execution_count": 42,
   "metadata": {},
   "outputs": [],
   "source": []
  },
  {
   "cell_type": "code",
   "execution_count": 43,
   "metadata": {},
   "outputs": [
    {
     "data": {
      "text/plain": [
       "{'2023112200520453260001-2': 1.0, '2023112200520456520001-2': 1.0}"
      ]
     },
     "execution_count": 43,
     "metadata": {},
     "output_type": "execute_result"
    }
   ],
   "source": [
    "aux_ajuste"
   ]
  },
  {
   "cell_type": "code",
   "execution_count": 44,
   "metadata": {},
   "outputs": [],
   "source": []
  },
  {
   "cell_type": "code",
   "execution_count": 45,
   "metadata": {},
   "outputs": [],
   "source": []
  },
  {
   "cell_type": "code",
   "execution_count": 46,
   "metadata": {},
   "outputs": [],
   "source": []
  },
  {
   "cell_type": "code",
   "execution_count": 47,
   "metadata": {},
   "outputs": [],
   "source": []
  },
  {
   "cell_type": "code",
   "execution_count": 48,
   "metadata": {},
   "outputs": [],
   "source": [
    "import ibotz_k11"
   ]
  },
  {
   "cell_type": "code",
   "execution_count": 49,
   "metadata": {},
   "outputs": [
    {
     "data": {
      "text/plain": [
       "<Response [200]>"
      ]
     },
     "execution_count": 49,
     "metadata": {},
     "output_type": "execute_result"
    }
   ],
   "source": []
  }
 ],
 "metadata": {
  "interpreter": {
   "hash": "db19393a6f02e05b1e02a57a0984e495c7635796986434e660c41f0ad4c6bb1d"
  },
  "kernelspec": {
   "display_name": "Python 3.7.3 64-bit (system)",
   "name": "python3"
  },
  "language_info": {
   "codemirror_mode": {
    "name": "ipython",
    "version": 3
   },
   "file_extension": ".py",
   "mimetype": "text/x-python",
   "name": "python",
   "nbconvert_exporter": "python",
   "pygments_lexer": "ipython3",
   "version": "3.7.3"
  },
  "orig_nbformat": 4
 },
 "nbformat": 4,
 "nbformat_minor": 2
}
